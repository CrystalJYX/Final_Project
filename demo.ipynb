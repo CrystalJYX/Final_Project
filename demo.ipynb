{
  "nbformat": 4,
  "nbformat_minor": 0,
  "metadata": {
    "colab": {
      "name": "demo.ipynb",
      "provenance": [],
      "collapsed_sections": [],
      "mount_file_id": "1s0PNx9pKe9oGskWL7p2B2f-nsxndlEuZ",
      "authorship_tag": "ABX9TyNPRGtDtr/PU0SxrCH2yhNJ",
      "include_colab_link": true
    },
    "kernelspec": {
      "name": "python3",
      "display_name": "Python 3"
    },
    "language_info": {
      "name": "python"
    },
    "accelerator": "GPU",
    "widgets": {
      "application/vnd.jupyter.widget-state+json": {
        "b02ba848a9294b51b0ea9a5ea063ac5b": {
          "model_module": "@jupyter-widgets/controls",
          "model_name": "HBoxModel",
          "model_module_version": "1.5.0",
          "state": {
            "_dom_classes": [],
            "_model_module": "@jupyter-widgets/controls",
            "_model_module_version": "1.5.0",
            "_model_name": "HBoxModel",
            "_view_count": null,
            "_view_module": "@jupyter-widgets/controls",
            "_view_module_version": "1.5.0",
            "_view_name": "HBoxView",
            "box_style": "",
            "children": [
              "IPY_MODEL_98a167e6d15349e484b213b1df16dbef",
              "IPY_MODEL_1fbc035bcdb14d929cd7b26b8f94d14d",
              "IPY_MODEL_7e81880c426842acb378f243c6269091"
            ],
            "layout": "IPY_MODEL_1fcf57904273448294bc1d7c76717745"
          }
        },
        "98a167e6d15349e484b213b1df16dbef": {
          "model_module": "@jupyter-widgets/controls",
          "model_name": "HTMLModel",
          "model_module_version": "1.5.0",
          "state": {
            "_dom_classes": [],
            "_model_module": "@jupyter-widgets/controls",
            "_model_module_version": "1.5.0",
            "_model_name": "HTMLModel",
            "_view_count": null,
            "_view_module": "@jupyter-widgets/controls",
            "_view_module_version": "1.5.0",
            "_view_name": "HTMLView",
            "description": "",
            "description_tooltip": null,
            "layout": "IPY_MODEL_9cb01314221140e8a92770cec4131e19",
            "placeholder": "​",
            "style": "IPY_MODEL_f49c57ac19964c4088a4b3a078629275",
            "value": ""
          }
        },
        "1fbc035bcdb14d929cd7b26b8f94d14d": {
          "model_module": "@jupyter-widgets/controls",
          "model_name": "FloatProgressModel",
          "model_module_version": "1.5.0",
          "state": {
            "_dom_classes": [],
            "_model_module": "@jupyter-widgets/controls",
            "_model_module_version": "1.5.0",
            "_model_name": "FloatProgressModel",
            "_view_count": null,
            "_view_module": "@jupyter-widgets/controls",
            "_view_module_version": "1.5.0",
            "_view_name": "ProgressView",
            "bar_style": "success",
            "description": "",
            "description_tooltip": null,
            "layout": "IPY_MODEL_4e56b32385ac49929a253a073794d7cb",
            "max": 9912422,
            "min": 0,
            "orientation": "horizontal",
            "style": "IPY_MODEL_1767ac64254d4bf8929e14e8f1e604be",
            "value": 9912422
          }
        },
        "7e81880c426842acb378f243c6269091": {
          "model_module": "@jupyter-widgets/controls",
          "model_name": "HTMLModel",
          "model_module_version": "1.5.0",
          "state": {
            "_dom_classes": [],
            "_model_module": "@jupyter-widgets/controls",
            "_model_module_version": "1.5.0",
            "_model_name": "HTMLModel",
            "_view_count": null,
            "_view_module": "@jupyter-widgets/controls",
            "_view_module_version": "1.5.0",
            "_view_name": "HTMLView",
            "description": "",
            "description_tooltip": null,
            "layout": "IPY_MODEL_7702a7bef2a74298845ed88dad617328",
            "placeholder": "​",
            "style": "IPY_MODEL_a85eeb3967394385bbb557f277a0b1d7",
            "value": " 9913344/? [00:00&lt;00:00, 17932031.78it/s]"
          }
        },
        "1fcf57904273448294bc1d7c76717745": {
          "model_module": "@jupyter-widgets/base",
          "model_name": "LayoutModel",
          "model_module_version": "1.2.0",
          "state": {
            "_model_module": "@jupyter-widgets/base",
            "_model_module_version": "1.2.0",
            "_model_name": "LayoutModel",
            "_view_count": null,
            "_view_module": "@jupyter-widgets/base",
            "_view_module_version": "1.2.0",
            "_view_name": "LayoutView",
            "align_content": null,
            "align_items": null,
            "align_self": null,
            "border": null,
            "bottom": null,
            "display": null,
            "flex": null,
            "flex_flow": null,
            "grid_area": null,
            "grid_auto_columns": null,
            "grid_auto_flow": null,
            "grid_auto_rows": null,
            "grid_column": null,
            "grid_gap": null,
            "grid_row": null,
            "grid_template_areas": null,
            "grid_template_columns": null,
            "grid_template_rows": null,
            "height": null,
            "justify_content": null,
            "justify_items": null,
            "left": null,
            "margin": null,
            "max_height": null,
            "max_width": null,
            "min_height": null,
            "min_width": null,
            "object_fit": null,
            "object_position": null,
            "order": null,
            "overflow": null,
            "overflow_x": null,
            "overflow_y": null,
            "padding": null,
            "right": null,
            "top": null,
            "visibility": null,
            "width": null
          }
        },
        "9cb01314221140e8a92770cec4131e19": {
          "model_module": "@jupyter-widgets/base",
          "model_name": "LayoutModel",
          "model_module_version": "1.2.0",
          "state": {
            "_model_module": "@jupyter-widgets/base",
            "_model_module_version": "1.2.0",
            "_model_name": "LayoutModel",
            "_view_count": null,
            "_view_module": "@jupyter-widgets/base",
            "_view_module_version": "1.2.0",
            "_view_name": "LayoutView",
            "align_content": null,
            "align_items": null,
            "align_self": null,
            "border": null,
            "bottom": null,
            "display": null,
            "flex": null,
            "flex_flow": null,
            "grid_area": null,
            "grid_auto_columns": null,
            "grid_auto_flow": null,
            "grid_auto_rows": null,
            "grid_column": null,
            "grid_gap": null,
            "grid_row": null,
            "grid_template_areas": null,
            "grid_template_columns": null,
            "grid_template_rows": null,
            "height": null,
            "justify_content": null,
            "justify_items": null,
            "left": null,
            "margin": null,
            "max_height": null,
            "max_width": null,
            "min_height": null,
            "min_width": null,
            "object_fit": null,
            "object_position": null,
            "order": null,
            "overflow": null,
            "overflow_x": null,
            "overflow_y": null,
            "padding": null,
            "right": null,
            "top": null,
            "visibility": null,
            "width": null
          }
        },
        "f49c57ac19964c4088a4b3a078629275": {
          "model_module": "@jupyter-widgets/controls",
          "model_name": "DescriptionStyleModel",
          "model_module_version": "1.5.0",
          "state": {
            "_model_module": "@jupyter-widgets/controls",
            "_model_module_version": "1.5.0",
            "_model_name": "DescriptionStyleModel",
            "_view_count": null,
            "_view_module": "@jupyter-widgets/base",
            "_view_module_version": "1.2.0",
            "_view_name": "StyleView",
            "description_width": ""
          }
        },
        "4e56b32385ac49929a253a073794d7cb": {
          "model_module": "@jupyter-widgets/base",
          "model_name": "LayoutModel",
          "model_module_version": "1.2.0",
          "state": {
            "_model_module": "@jupyter-widgets/base",
            "_model_module_version": "1.2.0",
            "_model_name": "LayoutModel",
            "_view_count": null,
            "_view_module": "@jupyter-widgets/base",
            "_view_module_version": "1.2.0",
            "_view_name": "LayoutView",
            "align_content": null,
            "align_items": null,
            "align_self": null,
            "border": null,
            "bottom": null,
            "display": null,
            "flex": null,
            "flex_flow": null,
            "grid_area": null,
            "grid_auto_columns": null,
            "grid_auto_flow": null,
            "grid_auto_rows": null,
            "grid_column": null,
            "grid_gap": null,
            "grid_row": null,
            "grid_template_areas": null,
            "grid_template_columns": null,
            "grid_template_rows": null,
            "height": null,
            "justify_content": null,
            "justify_items": null,
            "left": null,
            "margin": null,
            "max_height": null,
            "max_width": null,
            "min_height": null,
            "min_width": null,
            "object_fit": null,
            "object_position": null,
            "order": null,
            "overflow": null,
            "overflow_x": null,
            "overflow_y": null,
            "padding": null,
            "right": null,
            "top": null,
            "visibility": null,
            "width": null
          }
        },
        "1767ac64254d4bf8929e14e8f1e604be": {
          "model_module": "@jupyter-widgets/controls",
          "model_name": "ProgressStyleModel",
          "model_module_version": "1.5.0",
          "state": {
            "_model_module": "@jupyter-widgets/controls",
            "_model_module_version": "1.5.0",
            "_model_name": "ProgressStyleModel",
            "_view_count": null,
            "_view_module": "@jupyter-widgets/base",
            "_view_module_version": "1.2.0",
            "_view_name": "StyleView",
            "bar_color": null,
            "description_width": ""
          }
        },
        "7702a7bef2a74298845ed88dad617328": {
          "model_module": "@jupyter-widgets/base",
          "model_name": "LayoutModel",
          "model_module_version": "1.2.0",
          "state": {
            "_model_module": "@jupyter-widgets/base",
            "_model_module_version": "1.2.0",
            "_model_name": "LayoutModel",
            "_view_count": null,
            "_view_module": "@jupyter-widgets/base",
            "_view_module_version": "1.2.0",
            "_view_name": "LayoutView",
            "align_content": null,
            "align_items": null,
            "align_self": null,
            "border": null,
            "bottom": null,
            "display": null,
            "flex": null,
            "flex_flow": null,
            "grid_area": null,
            "grid_auto_columns": null,
            "grid_auto_flow": null,
            "grid_auto_rows": null,
            "grid_column": null,
            "grid_gap": null,
            "grid_row": null,
            "grid_template_areas": null,
            "grid_template_columns": null,
            "grid_template_rows": null,
            "height": null,
            "justify_content": null,
            "justify_items": null,
            "left": null,
            "margin": null,
            "max_height": null,
            "max_width": null,
            "min_height": null,
            "min_width": null,
            "object_fit": null,
            "object_position": null,
            "order": null,
            "overflow": null,
            "overflow_x": null,
            "overflow_y": null,
            "padding": null,
            "right": null,
            "top": null,
            "visibility": null,
            "width": null
          }
        },
        "a85eeb3967394385bbb557f277a0b1d7": {
          "model_module": "@jupyter-widgets/controls",
          "model_name": "DescriptionStyleModel",
          "model_module_version": "1.5.0",
          "state": {
            "_model_module": "@jupyter-widgets/controls",
            "_model_module_version": "1.5.0",
            "_model_name": "DescriptionStyleModel",
            "_view_count": null,
            "_view_module": "@jupyter-widgets/base",
            "_view_module_version": "1.2.0",
            "_view_name": "StyleView",
            "description_width": ""
          }
        },
        "72dd4fdb74b84504bb24429b1fb0ef72": {
          "model_module": "@jupyter-widgets/controls",
          "model_name": "HBoxModel",
          "model_module_version": "1.5.0",
          "state": {
            "_dom_classes": [],
            "_model_module": "@jupyter-widgets/controls",
            "_model_module_version": "1.5.0",
            "_model_name": "HBoxModel",
            "_view_count": null,
            "_view_module": "@jupyter-widgets/controls",
            "_view_module_version": "1.5.0",
            "_view_name": "HBoxView",
            "box_style": "",
            "children": [
              "IPY_MODEL_9f518bb06fd5492793db8782dbf8bfa3",
              "IPY_MODEL_46b9797669bc48d38461c483e224385c",
              "IPY_MODEL_fb8ebfaf9b304b0cbdbfad46875629bb"
            ],
            "layout": "IPY_MODEL_981a95f6f81d4c91abe1767ee16120fe"
          }
        },
        "9f518bb06fd5492793db8782dbf8bfa3": {
          "model_module": "@jupyter-widgets/controls",
          "model_name": "HTMLModel",
          "model_module_version": "1.5.0",
          "state": {
            "_dom_classes": [],
            "_model_module": "@jupyter-widgets/controls",
            "_model_module_version": "1.5.0",
            "_model_name": "HTMLModel",
            "_view_count": null,
            "_view_module": "@jupyter-widgets/controls",
            "_view_module_version": "1.5.0",
            "_view_name": "HTMLView",
            "description": "",
            "description_tooltip": null,
            "layout": "IPY_MODEL_7b4e344cc0364996a1fd48f4f20296a7",
            "placeholder": "​",
            "style": "IPY_MODEL_3454da6f42ef46e381db8ddb84f98aa0",
            "value": ""
          }
        },
        "46b9797669bc48d38461c483e224385c": {
          "model_module": "@jupyter-widgets/controls",
          "model_name": "FloatProgressModel",
          "model_module_version": "1.5.0",
          "state": {
            "_dom_classes": [],
            "_model_module": "@jupyter-widgets/controls",
            "_model_module_version": "1.5.0",
            "_model_name": "FloatProgressModel",
            "_view_count": null,
            "_view_module": "@jupyter-widgets/controls",
            "_view_module_version": "1.5.0",
            "_view_name": "ProgressView",
            "bar_style": "success",
            "description": "",
            "description_tooltip": null,
            "layout": "IPY_MODEL_b2060ea258874d469147b5fec203bde9",
            "max": 28881,
            "min": 0,
            "orientation": "horizontal",
            "style": "IPY_MODEL_7fd2b5614dd7487ca6e41e1a75445b3f",
            "value": 28881
          }
        },
        "fb8ebfaf9b304b0cbdbfad46875629bb": {
          "model_module": "@jupyter-widgets/controls",
          "model_name": "HTMLModel",
          "model_module_version": "1.5.0",
          "state": {
            "_dom_classes": [],
            "_model_module": "@jupyter-widgets/controls",
            "_model_module_version": "1.5.0",
            "_model_name": "HTMLModel",
            "_view_count": null,
            "_view_module": "@jupyter-widgets/controls",
            "_view_module_version": "1.5.0",
            "_view_name": "HTMLView",
            "description": "",
            "description_tooltip": null,
            "layout": "IPY_MODEL_f3dbec23a51c4d2ab49b3a6d5bdae061",
            "placeholder": "​",
            "style": "IPY_MODEL_7f6f7e7ae919420a8cbcf26f70c75cb0",
            "value": " 29696/? [00:00&lt;00:00, 929598.03it/s]"
          }
        },
        "981a95f6f81d4c91abe1767ee16120fe": {
          "model_module": "@jupyter-widgets/base",
          "model_name": "LayoutModel",
          "model_module_version": "1.2.0",
          "state": {
            "_model_module": "@jupyter-widgets/base",
            "_model_module_version": "1.2.0",
            "_model_name": "LayoutModel",
            "_view_count": null,
            "_view_module": "@jupyter-widgets/base",
            "_view_module_version": "1.2.0",
            "_view_name": "LayoutView",
            "align_content": null,
            "align_items": null,
            "align_self": null,
            "border": null,
            "bottom": null,
            "display": null,
            "flex": null,
            "flex_flow": null,
            "grid_area": null,
            "grid_auto_columns": null,
            "grid_auto_flow": null,
            "grid_auto_rows": null,
            "grid_column": null,
            "grid_gap": null,
            "grid_row": null,
            "grid_template_areas": null,
            "grid_template_columns": null,
            "grid_template_rows": null,
            "height": null,
            "justify_content": null,
            "justify_items": null,
            "left": null,
            "margin": null,
            "max_height": null,
            "max_width": null,
            "min_height": null,
            "min_width": null,
            "object_fit": null,
            "object_position": null,
            "order": null,
            "overflow": null,
            "overflow_x": null,
            "overflow_y": null,
            "padding": null,
            "right": null,
            "top": null,
            "visibility": null,
            "width": null
          }
        },
        "7b4e344cc0364996a1fd48f4f20296a7": {
          "model_module": "@jupyter-widgets/base",
          "model_name": "LayoutModel",
          "model_module_version": "1.2.0",
          "state": {
            "_model_module": "@jupyter-widgets/base",
            "_model_module_version": "1.2.0",
            "_model_name": "LayoutModel",
            "_view_count": null,
            "_view_module": "@jupyter-widgets/base",
            "_view_module_version": "1.2.0",
            "_view_name": "LayoutView",
            "align_content": null,
            "align_items": null,
            "align_self": null,
            "border": null,
            "bottom": null,
            "display": null,
            "flex": null,
            "flex_flow": null,
            "grid_area": null,
            "grid_auto_columns": null,
            "grid_auto_flow": null,
            "grid_auto_rows": null,
            "grid_column": null,
            "grid_gap": null,
            "grid_row": null,
            "grid_template_areas": null,
            "grid_template_columns": null,
            "grid_template_rows": null,
            "height": null,
            "justify_content": null,
            "justify_items": null,
            "left": null,
            "margin": null,
            "max_height": null,
            "max_width": null,
            "min_height": null,
            "min_width": null,
            "object_fit": null,
            "object_position": null,
            "order": null,
            "overflow": null,
            "overflow_x": null,
            "overflow_y": null,
            "padding": null,
            "right": null,
            "top": null,
            "visibility": null,
            "width": null
          }
        },
        "3454da6f42ef46e381db8ddb84f98aa0": {
          "model_module": "@jupyter-widgets/controls",
          "model_name": "DescriptionStyleModel",
          "model_module_version": "1.5.0",
          "state": {
            "_model_module": "@jupyter-widgets/controls",
            "_model_module_version": "1.5.0",
            "_model_name": "DescriptionStyleModel",
            "_view_count": null,
            "_view_module": "@jupyter-widgets/base",
            "_view_module_version": "1.2.0",
            "_view_name": "StyleView",
            "description_width": ""
          }
        },
        "b2060ea258874d469147b5fec203bde9": {
          "model_module": "@jupyter-widgets/base",
          "model_name": "LayoutModel",
          "model_module_version": "1.2.0",
          "state": {
            "_model_module": "@jupyter-widgets/base",
            "_model_module_version": "1.2.0",
            "_model_name": "LayoutModel",
            "_view_count": null,
            "_view_module": "@jupyter-widgets/base",
            "_view_module_version": "1.2.0",
            "_view_name": "LayoutView",
            "align_content": null,
            "align_items": null,
            "align_self": null,
            "border": null,
            "bottom": null,
            "display": null,
            "flex": null,
            "flex_flow": null,
            "grid_area": null,
            "grid_auto_columns": null,
            "grid_auto_flow": null,
            "grid_auto_rows": null,
            "grid_column": null,
            "grid_gap": null,
            "grid_row": null,
            "grid_template_areas": null,
            "grid_template_columns": null,
            "grid_template_rows": null,
            "height": null,
            "justify_content": null,
            "justify_items": null,
            "left": null,
            "margin": null,
            "max_height": null,
            "max_width": null,
            "min_height": null,
            "min_width": null,
            "object_fit": null,
            "object_position": null,
            "order": null,
            "overflow": null,
            "overflow_x": null,
            "overflow_y": null,
            "padding": null,
            "right": null,
            "top": null,
            "visibility": null,
            "width": null
          }
        },
        "7fd2b5614dd7487ca6e41e1a75445b3f": {
          "model_module": "@jupyter-widgets/controls",
          "model_name": "ProgressStyleModel",
          "model_module_version": "1.5.0",
          "state": {
            "_model_module": "@jupyter-widgets/controls",
            "_model_module_version": "1.5.0",
            "_model_name": "ProgressStyleModel",
            "_view_count": null,
            "_view_module": "@jupyter-widgets/base",
            "_view_module_version": "1.2.0",
            "_view_name": "StyleView",
            "bar_color": null,
            "description_width": ""
          }
        },
        "f3dbec23a51c4d2ab49b3a6d5bdae061": {
          "model_module": "@jupyter-widgets/base",
          "model_name": "LayoutModel",
          "model_module_version": "1.2.0",
          "state": {
            "_model_module": "@jupyter-widgets/base",
            "_model_module_version": "1.2.0",
            "_model_name": "LayoutModel",
            "_view_count": null,
            "_view_module": "@jupyter-widgets/base",
            "_view_module_version": "1.2.0",
            "_view_name": "LayoutView",
            "align_content": null,
            "align_items": null,
            "align_self": null,
            "border": null,
            "bottom": null,
            "display": null,
            "flex": null,
            "flex_flow": null,
            "grid_area": null,
            "grid_auto_columns": null,
            "grid_auto_flow": null,
            "grid_auto_rows": null,
            "grid_column": null,
            "grid_gap": null,
            "grid_row": null,
            "grid_template_areas": null,
            "grid_template_columns": null,
            "grid_template_rows": null,
            "height": null,
            "justify_content": null,
            "justify_items": null,
            "left": null,
            "margin": null,
            "max_height": null,
            "max_width": null,
            "min_height": null,
            "min_width": null,
            "object_fit": null,
            "object_position": null,
            "order": null,
            "overflow": null,
            "overflow_x": null,
            "overflow_y": null,
            "padding": null,
            "right": null,
            "top": null,
            "visibility": null,
            "width": null
          }
        },
        "7f6f7e7ae919420a8cbcf26f70c75cb0": {
          "model_module": "@jupyter-widgets/controls",
          "model_name": "DescriptionStyleModel",
          "model_module_version": "1.5.0",
          "state": {
            "_model_module": "@jupyter-widgets/controls",
            "_model_module_version": "1.5.0",
            "_model_name": "DescriptionStyleModel",
            "_view_count": null,
            "_view_module": "@jupyter-widgets/base",
            "_view_module_version": "1.2.0",
            "_view_name": "StyleView",
            "description_width": ""
          }
        },
        "e78134c81902491a9f42a976150385d1": {
          "model_module": "@jupyter-widgets/controls",
          "model_name": "HBoxModel",
          "model_module_version": "1.5.0",
          "state": {
            "_dom_classes": [],
            "_model_module": "@jupyter-widgets/controls",
            "_model_module_version": "1.5.0",
            "_model_name": "HBoxModel",
            "_view_count": null,
            "_view_module": "@jupyter-widgets/controls",
            "_view_module_version": "1.5.0",
            "_view_name": "HBoxView",
            "box_style": "",
            "children": [
              "IPY_MODEL_945a0746ac1a4ffe938adc4c5797f5c9",
              "IPY_MODEL_2da013ea678e4bf79d6836f6e5c8597d",
              "IPY_MODEL_1ac8ae8990314b63ac39f7a04741afca"
            ],
            "layout": "IPY_MODEL_fefc354b1a5741e99732309e783e2f39"
          }
        },
        "945a0746ac1a4ffe938adc4c5797f5c9": {
          "model_module": "@jupyter-widgets/controls",
          "model_name": "HTMLModel",
          "model_module_version": "1.5.0",
          "state": {
            "_dom_classes": [],
            "_model_module": "@jupyter-widgets/controls",
            "_model_module_version": "1.5.0",
            "_model_name": "HTMLModel",
            "_view_count": null,
            "_view_module": "@jupyter-widgets/controls",
            "_view_module_version": "1.5.0",
            "_view_name": "HTMLView",
            "description": "",
            "description_tooltip": null,
            "layout": "IPY_MODEL_e42fa36192cc4b1384b3624d94f77f9b",
            "placeholder": "​",
            "style": "IPY_MODEL_3417519931954d1eac57e12ce5d2ea89",
            "value": ""
          }
        },
        "2da013ea678e4bf79d6836f6e5c8597d": {
          "model_module": "@jupyter-widgets/controls",
          "model_name": "FloatProgressModel",
          "model_module_version": "1.5.0",
          "state": {
            "_dom_classes": [],
            "_model_module": "@jupyter-widgets/controls",
            "_model_module_version": "1.5.0",
            "_model_name": "FloatProgressModel",
            "_view_count": null,
            "_view_module": "@jupyter-widgets/controls",
            "_view_module_version": "1.5.0",
            "_view_name": "ProgressView",
            "bar_style": "success",
            "description": "",
            "description_tooltip": null,
            "layout": "IPY_MODEL_af57a34478c7455a898848a7c7b0e4c3",
            "max": 1648877,
            "min": 0,
            "orientation": "horizontal",
            "style": "IPY_MODEL_e40c6864e7b845c4be09ef07ed6a08e7",
            "value": 1648877
          }
        },
        "1ac8ae8990314b63ac39f7a04741afca": {
          "model_module": "@jupyter-widgets/controls",
          "model_name": "HTMLModel",
          "model_module_version": "1.5.0",
          "state": {
            "_dom_classes": [],
            "_model_module": "@jupyter-widgets/controls",
            "_model_module_version": "1.5.0",
            "_model_name": "HTMLModel",
            "_view_count": null,
            "_view_module": "@jupyter-widgets/controls",
            "_view_module_version": "1.5.0",
            "_view_name": "HTMLView",
            "description": "",
            "description_tooltip": null,
            "layout": "IPY_MODEL_3d3089555a9a49ddaa87fdea6383cabc",
            "placeholder": "​",
            "style": "IPY_MODEL_8a8439f10e644422943e52464cba196e",
            "value": " 1649664/? [00:00&lt;00:00, 2598834.21it/s]"
          }
        },
        "fefc354b1a5741e99732309e783e2f39": {
          "model_module": "@jupyter-widgets/base",
          "model_name": "LayoutModel",
          "model_module_version": "1.2.0",
          "state": {
            "_model_module": "@jupyter-widgets/base",
            "_model_module_version": "1.2.0",
            "_model_name": "LayoutModel",
            "_view_count": null,
            "_view_module": "@jupyter-widgets/base",
            "_view_module_version": "1.2.0",
            "_view_name": "LayoutView",
            "align_content": null,
            "align_items": null,
            "align_self": null,
            "border": null,
            "bottom": null,
            "display": null,
            "flex": null,
            "flex_flow": null,
            "grid_area": null,
            "grid_auto_columns": null,
            "grid_auto_flow": null,
            "grid_auto_rows": null,
            "grid_column": null,
            "grid_gap": null,
            "grid_row": null,
            "grid_template_areas": null,
            "grid_template_columns": null,
            "grid_template_rows": null,
            "height": null,
            "justify_content": null,
            "justify_items": null,
            "left": null,
            "margin": null,
            "max_height": null,
            "max_width": null,
            "min_height": null,
            "min_width": null,
            "object_fit": null,
            "object_position": null,
            "order": null,
            "overflow": null,
            "overflow_x": null,
            "overflow_y": null,
            "padding": null,
            "right": null,
            "top": null,
            "visibility": null,
            "width": null
          }
        },
        "e42fa36192cc4b1384b3624d94f77f9b": {
          "model_module": "@jupyter-widgets/base",
          "model_name": "LayoutModel",
          "model_module_version": "1.2.0",
          "state": {
            "_model_module": "@jupyter-widgets/base",
            "_model_module_version": "1.2.0",
            "_model_name": "LayoutModel",
            "_view_count": null,
            "_view_module": "@jupyter-widgets/base",
            "_view_module_version": "1.2.0",
            "_view_name": "LayoutView",
            "align_content": null,
            "align_items": null,
            "align_self": null,
            "border": null,
            "bottom": null,
            "display": null,
            "flex": null,
            "flex_flow": null,
            "grid_area": null,
            "grid_auto_columns": null,
            "grid_auto_flow": null,
            "grid_auto_rows": null,
            "grid_column": null,
            "grid_gap": null,
            "grid_row": null,
            "grid_template_areas": null,
            "grid_template_columns": null,
            "grid_template_rows": null,
            "height": null,
            "justify_content": null,
            "justify_items": null,
            "left": null,
            "margin": null,
            "max_height": null,
            "max_width": null,
            "min_height": null,
            "min_width": null,
            "object_fit": null,
            "object_position": null,
            "order": null,
            "overflow": null,
            "overflow_x": null,
            "overflow_y": null,
            "padding": null,
            "right": null,
            "top": null,
            "visibility": null,
            "width": null
          }
        },
        "3417519931954d1eac57e12ce5d2ea89": {
          "model_module": "@jupyter-widgets/controls",
          "model_name": "DescriptionStyleModel",
          "model_module_version": "1.5.0",
          "state": {
            "_model_module": "@jupyter-widgets/controls",
            "_model_module_version": "1.5.0",
            "_model_name": "DescriptionStyleModel",
            "_view_count": null,
            "_view_module": "@jupyter-widgets/base",
            "_view_module_version": "1.2.0",
            "_view_name": "StyleView",
            "description_width": ""
          }
        },
        "af57a34478c7455a898848a7c7b0e4c3": {
          "model_module": "@jupyter-widgets/base",
          "model_name": "LayoutModel",
          "model_module_version": "1.2.0",
          "state": {
            "_model_module": "@jupyter-widgets/base",
            "_model_module_version": "1.2.0",
            "_model_name": "LayoutModel",
            "_view_count": null,
            "_view_module": "@jupyter-widgets/base",
            "_view_module_version": "1.2.0",
            "_view_name": "LayoutView",
            "align_content": null,
            "align_items": null,
            "align_self": null,
            "border": null,
            "bottom": null,
            "display": null,
            "flex": null,
            "flex_flow": null,
            "grid_area": null,
            "grid_auto_columns": null,
            "grid_auto_flow": null,
            "grid_auto_rows": null,
            "grid_column": null,
            "grid_gap": null,
            "grid_row": null,
            "grid_template_areas": null,
            "grid_template_columns": null,
            "grid_template_rows": null,
            "height": null,
            "justify_content": null,
            "justify_items": null,
            "left": null,
            "margin": null,
            "max_height": null,
            "max_width": null,
            "min_height": null,
            "min_width": null,
            "object_fit": null,
            "object_position": null,
            "order": null,
            "overflow": null,
            "overflow_x": null,
            "overflow_y": null,
            "padding": null,
            "right": null,
            "top": null,
            "visibility": null,
            "width": null
          }
        },
        "e40c6864e7b845c4be09ef07ed6a08e7": {
          "model_module": "@jupyter-widgets/controls",
          "model_name": "ProgressStyleModel",
          "model_module_version": "1.5.0",
          "state": {
            "_model_module": "@jupyter-widgets/controls",
            "_model_module_version": "1.5.0",
            "_model_name": "ProgressStyleModel",
            "_view_count": null,
            "_view_module": "@jupyter-widgets/base",
            "_view_module_version": "1.2.0",
            "_view_name": "StyleView",
            "bar_color": null,
            "description_width": ""
          }
        },
        "3d3089555a9a49ddaa87fdea6383cabc": {
          "model_module": "@jupyter-widgets/base",
          "model_name": "LayoutModel",
          "model_module_version": "1.2.0",
          "state": {
            "_model_module": "@jupyter-widgets/base",
            "_model_module_version": "1.2.0",
            "_model_name": "LayoutModel",
            "_view_count": null,
            "_view_module": "@jupyter-widgets/base",
            "_view_module_version": "1.2.0",
            "_view_name": "LayoutView",
            "align_content": null,
            "align_items": null,
            "align_self": null,
            "border": null,
            "bottom": null,
            "display": null,
            "flex": null,
            "flex_flow": null,
            "grid_area": null,
            "grid_auto_columns": null,
            "grid_auto_flow": null,
            "grid_auto_rows": null,
            "grid_column": null,
            "grid_gap": null,
            "grid_row": null,
            "grid_template_areas": null,
            "grid_template_columns": null,
            "grid_template_rows": null,
            "height": null,
            "justify_content": null,
            "justify_items": null,
            "left": null,
            "margin": null,
            "max_height": null,
            "max_width": null,
            "min_height": null,
            "min_width": null,
            "object_fit": null,
            "object_position": null,
            "order": null,
            "overflow": null,
            "overflow_x": null,
            "overflow_y": null,
            "padding": null,
            "right": null,
            "top": null,
            "visibility": null,
            "width": null
          }
        },
        "8a8439f10e644422943e52464cba196e": {
          "model_module": "@jupyter-widgets/controls",
          "model_name": "DescriptionStyleModel",
          "model_module_version": "1.5.0",
          "state": {
            "_model_module": "@jupyter-widgets/controls",
            "_model_module_version": "1.5.0",
            "_model_name": "DescriptionStyleModel",
            "_view_count": null,
            "_view_module": "@jupyter-widgets/base",
            "_view_module_version": "1.2.0",
            "_view_name": "StyleView",
            "description_width": ""
          }
        },
        "0c237447e39c4a888a626a8f3f1499ae": {
          "model_module": "@jupyter-widgets/controls",
          "model_name": "HBoxModel",
          "model_module_version": "1.5.0",
          "state": {
            "_dom_classes": [],
            "_model_module": "@jupyter-widgets/controls",
            "_model_module_version": "1.5.0",
            "_model_name": "HBoxModel",
            "_view_count": null,
            "_view_module": "@jupyter-widgets/controls",
            "_view_module_version": "1.5.0",
            "_view_name": "HBoxView",
            "box_style": "",
            "children": [
              "IPY_MODEL_692c668bdbe343aba3d8c75d1c24d232",
              "IPY_MODEL_9d129752e9f0486bb8790cb0af21294d",
              "IPY_MODEL_7d6792da310b481681763d6dc991a267"
            ],
            "layout": "IPY_MODEL_f07a977c49b44fc1bd058fbfb3cb7413"
          }
        },
        "692c668bdbe343aba3d8c75d1c24d232": {
          "model_module": "@jupyter-widgets/controls",
          "model_name": "HTMLModel",
          "model_module_version": "1.5.0",
          "state": {
            "_dom_classes": [],
            "_model_module": "@jupyter-widgets/controls",
            "_model_module_version": "1.5.0",
            "_model_name": "HTMLModel",
            "_view_count": null,
            "_view_module": "@jupyter-widgets/controls",
            "_view_module_version": "1.5.0",
            "_view_name": "HTMLView",
            "description": "",
            "description_tooltip": null,
            "layout": "IPY_MODEL_2850c4e6b40d401bbfbeceaff2352a80",
            "placeholder": "​",
            "style": "IPY_MODEL_0d74071ccd57444484090746cb386b31",
            "value": ""
          }
        },
        "9d129752e9f0486bb8790cb0af21294d": {
          "model_module": "@jupyter-widgets/controls",
          "model_name": "FloatProgressModel",
          "model_module_version": "1.5.0",
          "state": {
            "_dom_classes": [],
            "_model_module": "@jupyter-widgets/controls",
            "_model_module_version": "1.5.0",
            "_model_name": "FloatProgressModel",
            "_view_count": null,
            "_view_module": "@jupyter-widgets/controls",
            "_view_module_version": "1.5.0",
            "_view_name": "ProgressView",
            "bar_style": "success",
            "description": "",
            "description_tooltip": null,
            "layout": "IPY_MODEL_a8e83764ba664c5d840a4e3e6a3db505",
            "max": 4542,
            "min": 0,
            "orientation": "horizontal",
            "style": "IPY_MODEL_ec687e0d127c4f6b97fa77ffd026162b",
            "value": 4542
          }
        },
        "7d6792da310b481681763d6dc991a267": {
          "model_module": "@jupyter-widgets/controls",
          "model_name": "HTMLModel",
          "model_module_version": "1.5.0",
          "state": {
            "_dom_classes": [],
            "_model_module": "@jupyter-widgets/controls",
            "_model_module_version": "1.5.0",
            "_model_name": "HTMLModel",
            "_view_count": null,
            "_view_module": "@jupyter-widgets/controls",
            "_view_module_version": "1.5.0",
            "_view_name": "HTMLView",
            "description": "",
            "description_tooltip": null,
            "layout": "IPY_MODEL_a9074728474f45828b3c48aa3e091c17",
            "placeholder": "​",
            "style": "IPY_MODEL_a72cfd2b03b246ffb7530aa9064facff",
            "value": " 5120/? [00:00&lt;00:00, 165825.01it/s]"
          }
        },
        "f07a977c49b44fc1bd058fbfb3cb7413": {
          "model_module": "@jupyter-widgets/base",
          "model_name": "LayoutModel",
          "model_module_version": "1.2.0",
          "state": {
            "_model_module": "@jupyter-widgets/base",
            "_model_module_version": "1.2.0",
            "_model_name": "LayoutModel",
            "_view_count": null,
            "_view_module": "@jupyter-widgets/base",
            "_view_module_version": "1.2.0",
            "_view_name": "LayoutView",
            "align_content": null,
            "align_items": null,
            "align_self": null,
            "border": null,
            "bottom": null,
            "display": null,
            "flex": null,
            "flex_flow": null,
            "grid_area": null,
            "grid_auto_columns": null,
            "grid_auto_flow": null,
            "grid_auto_rows": null,
            "grid_column": null,
            "grid_gap": null,
            "grid_row": null,
            "grid_template_areas": null,
            "grid_template_columns": null,
            "grid_template_rows": null,
            "height": null,
            "justify_content": null,
            "justify_items": null,
            "left": null,
            "margin": null,
            "max_height": null,
            "max_width": null,
            "min_height": null,
            "min_width": null,
            "object_fit": null,
            "object_position": null,
            "order": null,
            "overflow": null,
            "overflow_x": null,
            "overflow_y": null,
            "padding": null,
            "right": null,
            "top": null,
            "visibility": null,
            "width": null
          }
        },
        "2850c4e6b40d401bbfbeceaff2352a80": {
          "model_module": "@jupyter-widgets/base",
          "model_name": "LayoutModel",
          "model_module_version": "1.2.0",
          "state": {
            "_model_module": "@jupyter-widgets/base",
            "_model_module_version": "1.2.0",
            "_model_name": "LayoutModel",
            "_view_count": null,
            "_view_module": "@jupyter-widgets/base",
            "_view_module_version": "1.2.0",
            "_view_name": "LayoutView",
            "align_content": null,
            "align_items": null,
            "align_self": null,
            "border": null,
            "bottom": null,
            "display": null,
            "flex": null,
            "flex_flow": null,
            "grid_area": null,
            "grid_auto_columns": null,
            "grid_auto_flow": null,
            "grid_auto_rows": null,
            "grid_column": null,
            "grid_gap": null,
            "grid_row": null,
            "grid_template_areas": null,
            "grid_template_columns": null,
            "grid_template_rows": null,
            "height": null,
            "justify_content": null,
            "justify_items": null,
            "left": null,
            "margin": null,
            "max_height": null,
            "max_width": null,
            "min_height": null,
            "min_width": null,
            "object_fit": null,
            "object_position": null,
            "order": null,
            "overflow": null,
            "overflow_x": null,
            "overflow_y": null,
            "padding": null,
            "right": null,
            "top": null,
            "visibility": null,
            "width": null
          }
        },
        "0d74071ccd57444484090746cb386b31": {
          "model_module": "@jupyter-widgets/controls",
          "model_name": "DescriptionStyleModel",
          "model_module_version": "1.5.0",
          "state": {
            "_model_module": "@jupyter-widgets/controls",
            "_model_module_version": "1.5.0",
            "_model_name": "DescriptionStyleModel",
            "_view_count": null,
            "_view_module": "@jupyter-widgets/base",
            "_view_module_version": "1.2.0",
            "_view_name": "StyleView",
            "description_width": ""
          }
        },
        "a8e83764ba664c5d840a4e3e6a3db505": {
          "model_module": "@jupyter-widgets/base",
          "model_name": "LayoutModel",
          "model_module_version": "1.2.0",
          "state": {
            "_model_module": "@jupyter-widgets/base",
            "_model_module_version": "1.2.0",
            "_model_name": "LayoutModel",
            "_view_count": null,
            "_view_module": "@jupyter-widgets/base",
            "_view_module_version": "1.2.0",
            "_view_name": "LayoutView",
            "align_content": null,
            "align_items": null,
            "align_self": null,
            "border": null,
            "bottom": null,
            "display": null,
            "flex": null,
            "flex_flow": null,
            "grid_area": null,
            "grid_auto_columns": null,
            "grid_auto_flow": null,
            "grid_auto_rows": null,
            "grid_column": null,
            "grid_gap": null,
            "grid_row": null,
            "grid_template_areas": null,
            "grid_template_columns": null,
            "grid_template_rows": null,
            "height": null,
            "justify_content": null,
            "justify_items": null,
            "left": null,
            "margin": null,
            "max_height": null,
            "max_width": null,
            "min_height": null,
            "min_width": null,
            "object_fit": null,
            "object_position": null,
            "order": null,
            "overflow": null,
            "overflow_x": null,
            "overflow_y": null,
            "padding": null,
            "right": null,
            "top": null,
            "visibility": null,
            "width": null
          }
        },
        "ec687e0d127c4f6b97fa77ffd026162b": {
          "model_module": "@jupyter-widgets/controls",
          "model_name": "ProgressStyleModel",
          "model_module_version": "1.5.0",
          "state": {
            "_model_module": "@jupyter-widgets/controls",
            "_model_module_version": "1.5.0",
            "_model_name": "ProgressStyleModel",
            "_view_count": null,
            "_view_module": "@jupyter-widgets/base",
            "_view_module_version": "1.2.0",
            "_view_name": "StyleView",
            "bar_color": null,
            "description_width": ""
          }
        },
        "a9074728474f45828b3c48aa3e091c17": {
          "model_module": "@jupyter-widgets/base",
          "model_name": "LayoutModel",
          "model_module_version": "1.2.0",
          "state": {
            "_model_module": "@jupyter-widgets/base",
            "_model_module_version": "1.2.0",
            "_model_name": "LayoutModel",
            "_view_count": null,
            "_view_module": "@jupyter-widgets/base",
            "_view_module_version": "1.2.0",
            "_view_name": "LayoutView",
            "align_content": null,
            "align_items": null,
            "align_self": null,
            "border": null,
            "bottom": null,
            "display": null,
            "flex": null,
            "flex_flow": null,
            "grid_area": null,
            "grid_auto_columns": null,
            "grid_auto_flow": null,
            "grid_auto_rows": null,
            "grid_column": null,
            "grid_gap": null,
            "grid_row": null,
            "grid_template_areas": null,
            "grid_template_columns": null,
            "grid_template_rows": null,
            "height": null,
            "justify_content": null,
            "justify_items": null,
            "left": null,
            "margin": null,
            "max_height": null,
            "max_width": null,
            "min_height": null,
            "min_width": null,
            "object_fit": null,
            "object_position": null,
            "order": null,
            "overflow": null,
            "overflow_x": null,
            "overflow_y": null,
            "padding": null,
            "right": null,
            "top": null,
            "visibility": null,
            "width": null
          }
        },
        "a72cfd2b03b246ffb7530aa9064facff": {
          "model_module": "@jupyter-widgets/controls",
          "model_name": "DescriptionStyleModel",
          "model_module_version": "1.5.0",
          "state": {
            "_model_module": "@jupyter-widgets/controls",
            "_model_module_version": "1.5.0",
            "_model_name": "DescriptionStyleModel",
            "_view_count": null,
            "_view_module": "@jupyter-widgets/base",
            "_view_module_version": "1.2.0",
            "_view_name": "StyleView",
            "description_width": ""
          }
        }
      }
    }
  },
  "cells": [
    {
      "cell_type": "markdown",
      "metadata": {
        "id": "view-in-github",
        "colab_type": "text"
      },
      "source": [
        "<a href=\"https://colab.research.google.com/github/CrystalJYX/Final_Project/blob/main/demo.ipynb\" target=\"_parent\"><img src=\"https://colab.research.google.com/assets/colab-badge.svg\" alt=\"Open In Colab\"/></a>"
      ]
    },
    {
      "cell_type": "code",
      "source": [
        "from google.colab import drive\n",
        "drive.mount('/content/drive')"
      ],
      "metadata": {
        "colab": {
          "base_uri": "https://localhost:8080/"
        },
        "id": "Rj9hfmmJEmhR",
        "outputId": "b59b9984-8204-4660-cc33-b9c7fe651d97"
      },
      "execution_count": 1,
      "outputs": [
        {
          "output_type": "stream",
          "name": "stdout",
          "text": [
            "Drive already mounted at /content/drive; to attempt to forcibly remount, call drive.mount(\"/content/drive\", force_remount=True).\n"
          ]
        }
      ]
    },
    {
      "cell_type": "code",
      "execution_count": 2,
      "metadata": {
        "colab": {
          "base_uri": "https://localhost:8080/"
        },
        "id": "DiIL2sWgN6YL",
        "outputId": "9477e4a9-addf-4f2e-d72d-3108b0a3441c"
      },
      "outputs": [
        {
          "output_type": "stream",
          "name": "stdout",
          "text": [
            "Looking in indexes: https://pypi.org/simple, https://us-python.pkg.dev/colab-wheels/public/simple/\n",
            "Requirement already satisfied: torch in /usr/local/lib/python3.7/dist-packages (1.11.0+cu113)\n",
            "Requirement already satisfied: typing-extensions in /usr/local/lib/python3.7/dist-packages (from torch) (4.2.0)\n"
          ]
        }
      ],
      "source": [
        "!pip install torch"
      ]
    },
    {
      "cell_type": "code",
      "source": [
        "import torch\n",
        "torch.cuda.is_available()"
      ],
      "metadata": {
        "colab": {
          "base_uri": "https://localhost:8080/"
        },
        "id": "hwglsFc8O1SI",
        "outputId": "9bfb673c-b40e-4715-c30c-51b656861075"
      },
      "execution_count": 3,
      "outputs": [
        {
          "output_type": "execute_result",
          "data": {
            "text/plain": [
              "True"
            ]
          },
          "metadata": {},
          "execution_count": 3
        }
      ]
    },
    {
      "cell_type": "code",
      "source": [
        "import numpy as np"
      ],
      "metadata": {
        "id": "gNUmL5dgC-1A"
      },
      "execution_count": null,
      "outputs": []
    },
    {
      "cell_type": "code",
      "source": [
        "numpy_tensor = np.random.randn(10, 20)\n",
        "pytorch_tensor1 = torch.Tensor(numpy_tensor)"
      ],
      "metadata": {
        "id": "NnokgXZSCoiC"
      },
      "execution_count": null,
      "outputs": []
    },
    {
      "cell_type": "code",
      "source": [
        "numpy_array = pytorch_tensor1.cpu().numpy()"
      ],
      "metadata": {
        "id": "QVknjOkyDETs"
      },
      "execution_count": null,
      "outputs": []
    },
    {
      "cell_type": "code",
      "source": [
        "gpu_tensor = torch.randn(10,20).cuda()"
      ],
      "metadata": {
        "id": "rQbKL4J5DSmT"
      },
      "execution_count": null,
      "outputs": []
    },
    {
      "cell_type": "code",
      "source": [
        "from torch.autograd import Variable"
      ],
      "metadata": {
        "id": "85xIqPwfGDDx"
      },
      "execution_count": null,
      "outputs": []
    },
    {
      "cell_type": "code",
      "source": [
        "x = Variable(torch.Tensor([2]), requires_grad=True)\n",
        "y = x + 2\n",
        "z = y ** 2 + 3\n",
        "print(z)"
      ],
      "metadata": {
        "colab": {
          "base_uri": "https://localhost:8080/"
        },
        "id": "UypQEvahGFxD",
        "outputId": "a96c57eb-dade-4700-a255-ab4856b19212"
      },
      "execution_count": null,
      "outputs": [
        {
          "output_type": "stream",
          "name": "stdout",
          "text": [
            "tensor([19.], grad_fn=<AddBackward0>)\n"
          ]
        }
      ]
    },
    {
      "cell_type": "code",
      "source": [
        "# 使用自动求导\n",
        "z.backward()\n",
        "print(x.grad)"
      ],
      "metadata": {
        "colab": {
          "base_uri": "https://localhost:8080/"
        },
        "id": "QgZcKmVfGLpZ",
        "outputId": "9caf8e8d-e075-4462-8dba-c28f2c580a58"
      },
      "execution_count": null,
      "outputs": [
        {
          "output_type": "stream",
          "name": "stdout",
          "text": [
            "tensor([8.])\n"
          ]
        }
      ]
    },
    {
      "cell_type": "code",
      "source": [
        "x = Variable(torch.randn(10, 20), requires_grad=True)\n",
        "y = Variable(torch.randn(10, 5), requires_grad=True)\n",
        "w = Variable(torch.randn(20, 5), requires_grad=True)\n",
        "\n",
        "out = torch.mean(y - torch.matmul(x, w)) # torch.matmul 是做矩阵乘法\n",
        "out.backward()"
      ],
      "metadata": {
        "id": "wfD4Ink-GPrd"
      },
      "execution_count": null,
      "outputs": []
    },
    {
      "cell_type": "code",
      "source": [
        "# 得到 w 的梯度\n",
        "print(w.grad)"
      ],
      "metadata": {
        "colab": {
          "base_uri": "https://localhost:8080/"
        },
        "id": "PSMK5ZrYGe-_",
        "outputId": "57160468-2dbd-431b-eba5-0d7e222de10d"
      },
      "execution_count": null,
      "outputs": [
        {
          "output_type": "stream",
          "name": "stdout",
          "text": [
            "tensor([[ 0.0058,  0.0058,  0.0058,  0.0058,  0.0058],\n",
            "        [-0.0792, -0.0792, -0.0792, -0.0792, -0.0792],\n",
            "        [-0.0896, -0.0896, -0.0896, -0.0896, -0.0896],\n",
            "        [-0.0754, -0.0754, -0.0754, -0.0754, -0.0754],\n",
            "        [ 0.0460,  0.0460,  0.0460,  0.0460,  0.0460],\n",
            "        [ 0.0727,  0.0727,  0.0727,  0.0727,  0.0727],\n",
            "        [ 0.0196,  0.0196,  0.0196,  0.0196,  0.0196],\n",
            "        [ 0.0636,  0.0636,  0.0636,  0.0636,  0.0636],\n",
            "        [ 0.0198,  0.0198,  0.0198,  0.0198,  0.0198],\n",
            "        [-0.0094, -0.0094, -0.0094, -0.0094, -0.0094],\n",
            "        [-0.0197, -0.0197, -0.0197, -0.0197, -0.0197],\n",
            "        [ 0.1202,  0.1202,  0.1202,  0.1202,  0.1202],\n",
            "        [-0.0273, -0.0273, -0.0273, -0.0273, -0.0273],\n",
            "        [-0.0146, -0.0146, -0.0146, -0.0146, -0.0146],\n",
            "        [ 0.0123,  0.0123,  0.0123,  0.0123,  0.0123],\n",
            "        [ 0.0317,  0.0317,  0.0317,  0.0317,  0.0317],\n",
            "        [-0.0084, -0.0084, -0.0084, -0.0084, -0.0084],\n",
            "        [ 0.0517,  0.0517,  0.0517,  0.0517,  0.0517],\n",
            "        [-0.1355, -0.1355, -0.1355, -0.1355, -0.1355],\n",
            "        [ 0.1544,  0.1544,  0.1544,  0.1544,  0.1544]])\n"
          ]
        }
      ]
    },
    {
      "cell_type": "code",
      "source": [
        "print(y.grad)"
      ],
      "metadata": {
        "colab": {
          "base_uri": "https://localhost:8080/"
        },
        "id": "vDsFOBG9GcV6",
        "outputId": "d80c6ee3-e5d5-40d8-c3ac-b6d0f28610f1"
      },
      "execution_count": null,
      "outputs": [
        {
          "output_type": "stream",
          "name": "stdout",
          "text": [
            "tensor([[0.0200, 0.0200, 0.0200, 0.0200, 0.0200],\n",
            "        [0.0200, 0.0200, 0.0200, 0.0200, 0.0200],\n",
            "        [0.0200, 0.0200, 0.0200, 0.0200, 0.0200],\n",
            "        [0.0200, 0.0200, 0.0200, 0.0200, 0.0200],\n",
            "        [0.0200, 0.0200, 0.0200, 0.0200, 0.0200],\n",
            "        [0.0200, 0.0200, 0.0200, 0.0200, 0.0200],\n",
            "        [0.0200, 0.0200, 0.0200, 0.0200, 0.0200],\n",
            "        [0.0200, 0.0200, 0.0200, 0.0200, 0.0200],\n",
            "        [0.0200, 0.0200, 0.0200, 0.0200, 0.0200],\n",
            "        [0.0200, 0.0200, 0.0200, 0.0200, 0.0200]])\n"
          ]
        }
      ]
    },
    {
      "cell_type": "code",
      "source": [
        "print(x.grad)"
      ],
      "metadata": {
        "colab": {
          "base_uri": "https://localhost:8080/"
        },
        "id": "T2wU26uPGScI",
        "outputId": "30923b3e-c931-4ba5-fd8a-befb34449ef5"
      },
      "execution_count": null,
      "outputs": [
        {
          "output_type": "stream",
          "name": "stdout",
          "text": [
            "tensor([[ 0.0330,  0.0497,  0.0229,  0.0037, -0.0678, -0.0162, -0.0498, -0.0362,\n",
            "          0.0291, -0.0379,  0.0243, -0.0092, -0.0550,  0.0183, -0.0332, -0.0588,\n",
            "          0.0094, -0.0103,  0.0017,  0.0393],\n",
            "        [ 0.0330,  0.0497,  0.0229,  0.0037, -0.0678, -0.0162, -0.0498, -0.0362,\n",
            "          0.0291, -0.0379,  0.0243, -0.0092, -0.0550,  0.0183, -0.0332, -0.0588,\n",
            "          0.0094, -0.0103,  0.0017,  0.0393],\n",
            "        [ 0.0330,  0.0497,  0.0229,  0.0037, -0.0678, -0.0162, -0.0498, -0.0362,\n",
            "          0.0291, -0.0379,  0.0243, -0.0092, -0.0550,  0.0183, -0.0332, -0.0588,\n",
            "          0.0094, -0.0103,  0.0017,  0.0393],\n",
            "        [ 0.0330,  0.0497,  0.0229,  0.0037, -0.0678, -0.0162, -0.0498, -0.0362,\n",
            "          0.0291, -0.0379,  0.0243, -0.0092, -0.0550,  0.0183, -0.0332, -0.0588,\n",
            "          0.0094, -0.0103,  0.0017,  0.0393],\n",
            "        [ 0.0330,  0.0497,  0.0229,  0.0037, -0.0678, -0.0162, -0.0498, -0.0362,\n",
            "          0.0291, -0.0379,  0.0243, -0.0092, -0.0550,  0.0183, -0.0332, -0.0588,\n",
            "          0.0094, -0.0103,  0.0017,  0.0393],\n",
            "        [ 0.0330,  0.0497,  0.0229,  0.0037, -0.0678, -0.0162, -0.0498, -0.0362,\n",
            "          0.0291, -0.0379,  0.0243, -0.0092, -0.0550,  0.0183, -0.0332, -0.0588,\n",
            "          0.0094, -0.0103,  0.0017,  0.0393],\n",
            "        [ 0.0330,  0.0497,  0.0229,  0.0037, -0.0678, -0.0162, -0.0498, -0.0362,\n",
            "          0.0291, -0.0379,  0.0243, -0.0092, -0.0550,  0.0183, -0.0332, -0.0588,\n",
            "          0.0094, -0.0103,  0.0017,  0.0393],\n",
            "        [ 0.0330,  0.0497,  0.0229,  0.0037, -0.0678, -0.0162, -0.0498, -0.0362,\n",
            "          0.0291, -0.0379,  0.0243, -0.0092, -0.0550,  0.0183, -0.0332, -0.0588,\n",
            "          0.0094, -0.0103,  0.0017,  0.0393],\n",
            "        [ 0.0330,  0.0497,  0.0229,  0.0037, -0.0678, -0.0162, -0.0498, -0.0362,\n",
            "          0.0291, -0.0379,  0.0243, -0.0092, -0.0550,  0.0183, -0.0332, -0.0588,\n",
            "          0.0094, -0.0103,  0.0017,  0.0393],\n",
            "        [ 0.0330,  0.0497,  0.0229,  0.0037, -0.0678, -0.0162, -0.0498, -0.0362,\n",
            "          0.0291, -0.0379,  0.0243, -0.0092, -0.0550,  0.0183, -0.0332, -0.0588,\n",
            "          0.0094, -0.0103,  0.0017,  0.0393]])\n"
          ]
        }
      ]
    },
    {
      "cell_type": "code",
      "source": [
        "x = Variable(torch.FloatTensor([2, 3]), requires_grad=True)\n",
        "k = Variable(torch.zeros(2))\n",
        "\n",
        "k[0] = x[0] ** 2 + 3 * x[1]\n",
        "k[1] = x[1] ** 2 + 2 * x[0]\n",
        "\n",
        "j = torch.zeros(2, 2)\n",
        "\n",
        "k.backward(torch.FloatTensor([1, 0]), retain_graph=True)\n",
        "j[0] = x.grad.data\n",
        "\n",
        "x.grad.data.zero_() # 归零之前求得的梯度\n",
        "\n",
        "k.backward(torch.FloatTensor([0, 1]))\n",
        "j[1] = x.grad.data\n",
        "\n",
        "print(j)"
      ],
      "metadata": {
        "colab": {
          "base_uri": "https://localhost:8080/"
        },
        "id": "STJVYJZuHoe9",
        "outputId": "b9fff9a7-f733-45d5-ac33-0e82c50bd412"
      },
      "execution_count": null,
      "outputs": [
        {
          "output_type": "stream",
          "name": "stdout",
          "text": [
            "tensor([[4., 3.],\n",
            "        [2., 6.]])\n"
          ]
        }
      ]
    },
    {
      "cell_type": "markdown",
      "source": [
        "dir(torch) \\\n",
        "help(func) \\\n",
        "dir(torch.cuda.is_available) \\\n",
        "help(torch.cuda.is_available) \\\n",
        "torch.cuda.get_device_capability() \\\n",
        "torch.cuda.device_count() \\\n",
        "!nvidia-smi \\\n",
        "torch.cuda.get_device_name(0)"
      ],
      "metadata": {
        "id": "7gXQgvIubC8b"
      }
    },
    {
      "cell_type": "code",
      "source": [
        "import torch\n",
        "from torch.autograd import Variable\n",
        "import numpy as np\n",
        "import matplotlib.pyplot as plt\n",
        "%matplotlib inline"
      ],
      "metadata": {
        "id": "QX6jC4zxTJtf"
      },
      "execution_count": 4,
      "outputs": []
    },
    {
      "cell_type": "code",
      "source": [
        "def sigmoid(x):\n",
        "    return 1 / (1 + np.exp(-x))"
      ],
      "metadata": {
        "id": "jduAWjv8VanO"
      },
      "execution_count": 5,
      "outputs": []
    },
    {
      "cell_type": "code",
      "source": [
        "import torch.nn.functional as F"
      ],
      "metadata": {
        "id": "YQCXpz7JVaqQ"
      },
      "execution_count": 6,
      "outputs": []
    },
    {
      "cell_type": "code",
      "source": [
        "with open('./data.txt', 'r') as f:\n",
        "    data_list = [i.split('\\n')[0].split(',') for i in f.readlines()]\n",
        "    data = [(float(i[0]), float(i[1]), float(i[2])) for i in data_list]\n",
        "# 􏵀􏵁􏳻\n",
        "x0_max = max([i[0] for i in data])\n",
        "x1_max = max([i[1] for i in data])\n",
        "data = [(i[0]/x0_max, i[1]/x1_max, i[2]) for i in data]\n",
        "x0 = list(filter(lambda x: x[-1] == 0.0, data)) # 􏵂􏵃􏲫􏰃􏳑􏰌􏰤 \n",
        "x1 = list(filter(lambda x: x[-1] == 1.0, data)) # 􏵂􏵃􏲫􏴐􏳑􏰌􏰤\n",
        "plot_x0 = [i[0] for i in x0]\n",
        "plot_y0 = [i[1] for i in x0]\n",
        "plot_x1 = [i[0] for i in x1]\n",
        "plot_y1 = [i[1] for i in x1]"
      ],
      "metadata": {
        "id": "herud7lGVaz-"
      },
      "execution_count": 10,
      "outputs": []
    },
    {
      "cell_type": "code",
      "source": [
        "plt.plot(plot_x0, plot_y0, 'ro', label='x_0')\n",
        "plt.plot(plot_x1, plot_y1, 'bo', label='x_1')\n",
        "plt.legend(loc='best')        "
      ],
      "metadata": {
        "colab": {
          "base_uri": "https://localhost:8080/",
          "height": 281
        },
        "id": "xlaYwVBiVa3V",
        "outputId": "98344d1e-f882-4b74-a198-9ec11a17ee54"
      },
      "execution_count": 11,
      "outputs": [
        {
          "output_type": "execute_result",
          "data": {
            "text/plain": [
              "<matplotlib.legend.Legend at 0x7ff71dc79d50>"
            ]
          },
          "metadata": {},
          "execution_count": 11
        },
        {
          "output_type": "display_data",
          "data": {
            "text/plain": [
              "<Figure size 432x288 with 1 Axes>"
            ],
            "image/png": "[encoded data removed]"
          },
          "metadata": {
            "needs_background": "light"
          }
        }
      ]
    },
    {
      "cell_type": "code",
      "source": [
        "np_data = np.array(data, dtype='float32')\n",
        "x_data = torch.from_numpy(np_data[:, 0:2]) # 􏳼􏵄􏴒 Tensor, 􏰈􏲯􏰂 [100, 2]\n",
        "y_data = torch.from_numpy(np_data[:, -1]).unsqueeze(1) # 􏳼􏵄􏴒 Tensor􏰑􏰈􏲯􏰂 [100, 1]"
      ],
      "metadata": {
        "id": "1z8jS37-WrNP"
      },
      "execution_count": 12,
      "outputs": []
    },
    {
      "cell_type": "code",
      "source": [
        "x_data = Variable(x_data)\n",
        "y_data = Variable(y_data)"
      ],
      "metadata": {
        "id": "yf5dp8cmW3O_"
      },
      "execution_count": 13,
      "outputs": []
    },
    {
      "cell_type": "code",
      "source": [
        "w = Variable(torch.randn(2, 1), requires_grad=True) \n",
        "b = Variable(torch.zeros(1), requires_grad=True)\n",
        "def logistic_regression(x):\n",
        "    return F.sigmoid(torch.mm(x, w) + b)\n",
        "\n",
        "\n",
        "w0 = w[0].data[0]\n",
        "w1 = w[1].data[0]\n",
        "b0 = b.data[0]\n",
        "plot_x = np.arange(0.2, 1, 0.01)\n",
        "plot_y = (-w0 * plot_x - b0) / w1\n",
        "plt.plot(plot_x, plot_y, 'g', label='cutting line')\n",
        "plt.plot(plot_x0, plot_y0, 'ro', label='x_0')\n",
        "plt.plot(plot_x1, plot_y1, 'bo', label='x_1')\n",
        "plt.legend(loc='best')"
      ],
      "metadata": {
        "colab": {
          "base_uri": "https://localhost:8080/",
          "height": 281
        },
        "id": "zbD_4t7IVaue",
        "outputId": "5703e8d6-cdbd-430e-81d2-5398274f7481"
      },
      "execution_count": 14,
      "outputs": [
        {
          "output_type": "execute_result",
          "data": {
            "text/plain": [
              "<matplotlib.legend.Legend at 0x7ff71dd21990>"
            ]
          },
          "metadata": {},
          "execution_count": 14
        },
        {
          "output_type": "display_data",
          "data": {
            "text/plain": [
              "<Figure size 432x288 with 1 Axes>"
            ],
            "image/png": "[encoded data removed]"
          },
          "metadata": {
            "needs_background": "light"
          }
        }
      ]
    },
    {
      "cell_type": "code",
      "source": [
        "def binary_loss(y_pred, y):\n",
        "    logits = (y * y_pred.clamp(1e-12).log() + (1 - y) * (1 - y_pred).clamp(1e-12).log()).mean()\n",
        "    return -logits"
      ],
      "metadata": {
        "id": "G3ytAl8MXHQ_"
      },
      "execution_count": 16,
      "outputs": []
    },
    {
      "cell_type": "code",
      "source": [
        " \n",
        "y_pred = logistic_regression(x_data)\n",
        "loss = binary_loss(y_pred, y_data)\n",
        "print(loss)"
      ],
      "metadata": {
        "colab": {
          "base_uri": "https://localhost:8080/"
        },
        "id": "G9JzybqjXOe_",
        "outputId": "f125fc19-4f97-4af8-f0c0-be5b671774ce"
      },
      "execution_count": 17,
      "outputs": [
        {
          "output_type": "stream",
          "name": "stdout",
          "text": [
            "tensor(0.7617, grad_fn=<NegBackward0>)\n"
          ]
        },
        {
          "output_type": "stream",
          "name": "stderr",
          "text": [
            "/usr/local/lib/python3.7/dist-packages/torch/nn/functional.py:1944: UserWarning: nn.functional.sigmoid is deprecated. Use torch.sigmoid instead.\n",
            "  warnings.warn(\"nn.functional.sigmoid is deprecated. Use torch.sigmoid instead.\")\n"
          ]
        }
      ]
    },
    {
      "cell_type": "code",
      "source": [
        "loss.backward()\n",
        "w.data = w.data - 0.1 * w.grad.data \n",
        "b.data = b.data - 0.1 * b.grad.data\n",
        "# 􏱛􏲸􏰃􏳛􏳭􏴔􏲍􏳌􏰌loss\n",
        "y_pred = logistic_regression(x_data) \n",
        "loss = binary_loss(y_pred, y_data) \n",
        "print(loss)"
      ],
      "metadata": {
        "colab": {
          "base_uri": "https://localhost:8080/"
        },
        "id": "mVSgPeuBXRt1",
        "outputId": "32990420-8a72-420a-f385-ef5d68dded6d"
      },
      "execution_count": 21,
      "outputs": [
        {
          "output_type": "stream",
          "name": "stdout",
          "text": [
            "tensor(0.7529, grad_fn=<NegBackward0>)\n"
          ]
        },
        {
          "output_type": "stream",
          "name": "stderr",
          "text": [
            "/usr/local/lib/python3.7/dist-packages/torch/nn/functional.py:1944: UserWarning: nn.functional.sigmoid is deprecated. Use torch.sigmoid instead.\n",
            "  warnings.warn(\"nn.functional.sigmoid is deprecated. Use torch.sigmoid instead.\")\n"
          ]
        }
      ]
    },
    {
      "cell_type": "code",
      "source": [
        "from torch import nn\n",
        "w = nn.Parameter(torch.randn(2, 1)) \n",
        "b = nn.Parameter(torch.zeros(1))\n",
        "\n",
        "def logistic_regression(x):\n",
        "    return F.sigmoid(torch.mm(x, w) + b)\n",
        "\n",
        "optimizer = torch.optim.SGD([w, b], lr=1.)"
      ],
      "metadata": {
        "id": "lAZYJjsOXaLU"
      },
      "execution_count": 22,
      "outputs": []
    },
    {
      "cell_type": "code",
      "source": [
        "import time\n",
        "start = time.time()\n",
        "for e in range(1000):\n",
        "  y_pred = logistic_regression(x_data)\n",
        "  loss = binary_loss(y_pred, y_data) \n",
        "  optimizer.zero_grad() \n",
        "  loss.backward()\n",
        "  optimizer.step() \n",
        "  mask = y_pred.ge(0.5).float()\n",
        "  acc = (mask == y_data).sum().item()  / y_data.shape[0]\n",
        "  if (e + 1) % 200 == 0:\n",
        "        print('epoch: {}, Loss: {:.5f}, Acc: {:.5f}'.format(e+1, loss.item(), acc))\n",
        "during = time.time() - start\n",
        "print()\n",
        "print('During Time: {:.3f} s'.format(during))"
      ],
      "metadata": {
        "colab": {
          "base_uri": "https://localhost:8080/"
        },
        "id": "aZ9et0kiXgut",
        "outputId": "e864cadd-a54b-4839-9a05-acd570b33eb6"
      },
      "execution_count": 30,
      "outputs": [
        {
          "output_type": "stream",
          "name": "stderr",
          "text": [
            "/usr/local/lib/python3.7/dist-packages/torch/nn/functional.py:1944: UserWarning: nn.functional.sigmoid is deprecated. Use torch.sigmoid instead.\n",
            "  warnings.warn(\"nn.functional.sigmoid is deprecated. Use torch.sigmoid instead.\")\n"
          ]
        },
        {
          "output_type": "stream",
          "name": "stdout",
          "text": [
            "epoch: 200, Loss: 0.31733, Acc: 0.91000\n",
            "epoch: 400, Loss: 0.28666, Acc: 0.91000\n",
            "epoch: 600, Loss: 0.26823, Acc: 0.91000\n",
            "epoch: 800, Loss: 0.25588, Acc: 0.89000\n",
            "epoch: 1000, Loss: 0.24702, Acc: 0.89000\n",
            "\n",
            "During Time: 0.383 s\n"
          ]
        }
      ]
    },
    {
      "cell_type": "code",
      "source": [
        "print(w)"
      ],
      "metadata": {
        "colab": {
          "base_uri": "https://localhost:8080/"
        },
        "id": "372IKArDaY3A",
        "outputId": "a05824ce-671a-41da-bca0-00ed3b352076"
      },
      "execution_count": 33,
      "outputs": [
        {
          "output_type": "stream",
          "name": "stdout",
          "text": [
            "Parameter containing:\n",
            "tensor([[10.3047],\n",
            "        [ 9.6116]], requires_grad=True)\n"
          ]
        }
      ]
    },
    {
      "cell_type": "code",
      "source": [
        "print(b)"
      ],
      "metadata": {
        "colab": {
          "base_uri": "https://localhost:8080/"
        },
        "id": "lFZMd4I1acPz",
        "outputId": "30d3b40a-3915-459c-ece5-a3526ed42a5e"
      },
      "execution_count": 34,
      "outputs": [
        {
          "output_type": "stream",
          "name": "stdout",
          "text": [
            "Parameter containing:\n",
            "tensor([-12.2949], requires_grad=True)\n"
          ]
        }
      ]
    },
    {
      "cell_type": "code",
      "source": [
        "print(w0)\n",
        "print(w1)\n",
        "print(b0)"
      ],
      "metadata": {
        "colab": {
          "base_uri": "https://localhost:8080/"
        },
        "id": "aejILv4zajyx",
        "outputId": "adefa99f-3fb7-4c7d-f1e7-91d13ab9d879"
      },
      "execution_count": 35,
      "outputs": [
        {
          "output_type": "stream",
          "name": "stdout",
          "text": [
            "tensor(10.3047)\n",
            "tensor(9.6116)\n",
            "tensor(-12.2949)\n"
          ]
        }
      ]
    },
    {
      "cell_type": "code",
      "source": [
        "w0 = w[0].data[0] \n",
        "w1 = w[1].data[0] \n",
        "b0 = b.data[0]\n",
        "plot_x = np.arange(0.2, 1, 0.01)\n",
        "plot_y = (-w0 * plot_x - b0) / w1\n",
        "plt.plot(plot_x, plot_y, 'g', label='cutting line')\n",
        "plt.plot(plot_x0, plot_y0, 'ro', label='x_0')\n",
        "plt.plot(plot_x1, plot_y1, 'bo', label='x_1')\n",
        "plt.legend(loc='best')"
      ],
      "metadata": {
        "colab": {
          "base_uri": "https://localhost:8080/",
          "height": 281
        },
        "id": "1X9yHT1wZHvK",
        "outputId": "502a5b88-d337-4415-9ba2-dc89af29141b"
      },
      "execution_count": 32,
      "outputs": [
        {
          "output_type": "execute_result",
          "data": {
            "text/plain": [
              "<matplotlib.legend.Legend at 0x7ff71cdff090>"
            ]
          },
          "metadata": {},
          "execution_count": 32
        },
        {
          "output_type": "display_data",
          "data": {
            "text/plain": [
              "<Figure size 432x288 with 1 Axes>"
            ],
            "image/png": "[encoded data removed]"
          },
          "metadata": {
            "needs_background": "light"
          }
        }
      ]
    },
    {
      "cell_type": "code",
      "source": [
        " \n",
        "import torch\n",
        "import numpy as np\n",
        "from torch import nn\n",
        "from torch.autograd import Variable\n",
        "import torch.nn.functional as F\n",
        "import matplotlib.pyplot as plt\n",
        "%matplotlib inline"
      ],
      "metadata": {
        "id": "40zNBGoIZHzU"
      },
      "execution_count": 4,
      "outputs": []
    },
    {
      "cell_type": "code",
      "source": [
        " \n",
        "def plot_decision_boundary(model, x, y):\n",
        "    # Set min and max values and give it some padding\n",
        "    x_min, x_max = x[:, 0].min() - 1, x[:, 0].max() + 1\n",
        "    y_min, y_max = x[:, 1].min() - 1, x[:, 1].max() + 1\n",
        "    h = 0.01\n",
        "    # Generate a grid of points with distance h between them\n",
        "    xx, yy = np.meshgrid(np.arange(x_min, x_max, h), np.arange(y_min, y_max, h))\n",
        "    # Predict the function value for the whole grid\n",
        "    Z = model(np.c_[xx.ravel(), yy.ravel()])\n",
        "    Z = Z.reshape(xx.shape)\n",
        "    # Plot the contour and training examples\n",
        "    plt.contourf(xx, yy, Z, cmap=plt.cm.Spectral)\n",
        "    plt.ylabel('x2')\n",
        "    plt.xlabel('x1')\n",
        "    plt.scatter(x[:, 0], x[:, 1], c=y.reshape(-1), s=40, cmap=plt.cm.Spectral)"
      ],
      "metadata": {
        "id": "zBITUlzadC9j"
      },
      "execution_count": 12,
      "outputs": []
    },
    {
      "cell_type": "code",
      "source": [
        "np.random.seed(1)\n",
        "m=400# 􏲵􏲻􏲼􏶅\n",
        "N = int(m/2) # 􏳞􏰃􏳑􏰌􏰤􏰌􏱽􏲼\n",
        "D = 2 # 􏴑􏳥\n",
        "x = np.zeros((m, D))\n",
        "y = np.zeros((m, 1), dtype='uint8') # label 􏱩􏶅􏰑0 􏳔􏴎􏴙􏴚􏰑1 􏳔􏴎􏴻􏴚 \n",
        "a=4\n",
        " "
      ],
      "metadata": {
        "id": "Kmqkl1AxdGGV"
      },
      "execution_count": 13,
      "outputs": []
    },
    {
      "cell_type": "code",
      "source": [
        "for j in range(2):\n",
        "    ix = range(N*j,N*(j+1))\n",
        "    t = np.linspace(j*3.12,(j+1)*3.12,N) + np.random.randn(N)*0.2 # theta\n",
        "    r = a*np.sin(4*t) + np.random.randn(N)*0.2 # radius\n",
        "    x[ix] = np.c_[r*np.sin(t), r*np.cos(t)]\n",
        "    y[ix] = j\n",
        "  \n",
        "plt.scatter(x[:, 0], x[:, 1], c=y.reshape(-1), s=40, cmap=plt.cm.Spectral)"
      ],
      "metadata": {
        "colab": {
          "base_uri": "https://localhost:8080/",
          "height": 281
        },
        "id": "f0fVF_cadJO6",
        "outputId": "1f7ecfb6-c15c-4960-f00d-ccf50d133399"
      },
      "execution_count": 14,
      "outputs": [
        {
          "output_type": "execute_result",
          "data": {
            "text/plain": [
              "<matplotlib.collections.PathCollection at 0x7f704a627190>"
            ]
          },
          "metadata": {},
          "execution_count": 14
        },
        {
          "output_type": "display_data",
          "data": {
            "text/plain": [
              "<Figure size 432x288 with 1 Axes>"
            ],
            "image/png": "[encoded data removed]"
          },
          "metadata": {
            "needs_background": "light"
          }
        }
      ]
    },
    {
      "cell_type": "code",
      "source": [
        "x = torch.from_numpy(x).float()\n",
        "y = torch.from_numpy(y).float()"
      ],
      "metadata": {
        "id": "6BqKbskEdUWK"
      },
      "execution_count": 15,
      "outputs": []
    },
    {
      "cell_type": "code",
      "source": [
        " \n",
        "w = nn.Parameter(torch.randn(2, 1))\n",
        "b = nn.Parameter(torch.zeros(1))\n",
        "optimizer = torch.optim.SGD([w, b], 1e-1)\n",
        "def logistic_regression(x):\n",
        "    return torch.mm(x, w) + b\n",
        "criterion = nn.BCEWithLogitsLoss()\n",
        "\n",
        "\n",
        " \n",
        "for e in range(100):\n",
        "    out = logistic_regression(Variable(x))\n",
        "    loss = criterion(out, Variable(y))\n",
        "    optimizer.zero_grad()\n",
        "    loss.backward()\n",
        "    optimizer.step()\n",
        "    if (e + 1) % 20 == 0:\n",
        "        print('epoch: {}, loss: {}'.format(e+1, loss.item()))"
      ],
      "metadata": {
        "colab": {
          "base_uri": "https://localhost:8080/"
        },
        "id": "kUUeNLlUdX4b",
        "outputId": "bc019940-2d42-49f6-b369-8653351bbf1a"
      },
      "execution_count": 17,
      "outputs": [
        {
          "output_type": "stream",
          "name": "stdout",
          "text": [
            "epoch: 20, loss: 0.6827124953269958\n",
            "epoch: 40, loss: 0.6733598113059998\n",
            "epoch: 60, loss: 0.6731507182121277\n",
            "epoch: 80, loss: 0.6731461882591248\n",
            "epoch: 100, loss: 0.67314612865448\n"
          ]
        }
      ]
    },
    {
      "cell_type": "code",
      "source": [
        " \n",
        "def plot_logistic(x):\n",
        "    x = Variable(torch.from_numpy(x).float())\n",
        "    out = F.sigmoid(logistic_regression(x))\n",
        "    out = (out > 0.5) * 1\n",
        "    return out.data.numpy()"
      ],
      "metadata": {
        "id": "eNJPILIUddGF"
      },
      "execution_count": 18,
      "outputs": []
    },
    {
      "cell_type": "code",
      "source": [
        "plot_decision_boundary(lambda x: plot_logistic(x), x.numpy(), y.numpy())\n",
        "plt.title('logistic regression')"
      ],
      "metadata": {
        "colab": {
          "base_uri": "https://localhost:8080/",
          "height": 364
        },
        "id": "W3f5D5wMdh0Y",
        "outputId": "1a099644-df2e-470a-bc96-04ee4dd7b8b8"
      },
      "execution_count": 19,
      "outputs": [
        {
          "output_type": "stream",
          "name": "stderr",
          "text": [
            "/usr/local/lib/python3.7/dist-packages/torch/nn/functional.py:1944: UserWarning: nn.functional.sigmoid is deprecated. Use torch.sigmoid instead.\n",
            "  warnings.warn(\"nn.functional.sigmoid is deprecated. Use torch.sigmoid instead.\")\n"
          ]
        },
        {
          "output_type": "execute_result",
          "data": {
            "text/plain": [
              "Text(0.5, 1.0, 'logistic regression')"
            ]
          },
          "metadata": {},
          "execution_count": 19
        },
        {
          "output_type": "display_data",
          "data": {
            "text/plain": [
              "<Figure size 432x288 with 1 Axes>"
            ],
            "image/png": "[encoded data removed]"
          },
          "metadata": {
            "needs_background": "light"
          }
        }
      ]
    },
    {
      "cell_type": "code",
      "source": [
        "w1 = nn.Parameter(torch.randn(2, 4) * 0.01) # 􏷖􏷗􏵐􏲞􏱹􏳘􏱽􏲼 2 \n",
        "b1 = nn.Parameter(torch.zeros(4))\n",
        "w2 = nn.Parameter(torch.randn(4, 1) * 0.01)\n",
        "b2 = nn.Parameter(torch.zeros(1))\n",
        "# 􏴧􏴨􏴵􏳒\n",
        "def two_network(x):\n",
        "  x1 = torch.mm(x, w1) + b1\n",
        "  x1 = F.tanh(x1) # 􏱔􏰋 PyTorch 􏴫􏶴􏰌 tanh 􏶸􏶹􏳩􏲼 \n",
        "  x2 = torch.mm(x1, w2) + b2\n",
        "  return x2\n",
        "optimizer = torch.optim.SGD([w1, w2, b1, b2], 1.)\n",
        "criterion = nn.BCEWithLogitsLoss()"
      ],
      "metadata": {
        "id": "7gs9b7qsdln8"
      },
      "execution_count": 20,
      "outputs": []
    },
    {
      "cell_type": "code",
      "source": [
        "for e in range(10000):\n",
        "    out = two_network(Variable(x))\n",
        "    loss = criterion(out, Variable(y))\n",
        "    optimizer.zero_grad()\n",
        "    loss.backward()\n",
        "    optimizer.step()\n",
        "    if (e + 1) % 1000 == 0:\n",
        "        print('epoch: {}, loss: {}'.format(e+1, loss.item()))"
      ],
      "metadata": {
        "colab": {
          "base_uri": "https://localhost:8080/"
        },
        "id": "KHVRxS3gdlua",
        "outputId": "a90df74c-032a-429c-8a7c-a16859741af4"
      },
      "execution_count": 21,
      "outputs": [
        {
          "output_type": "stream",
          "name": "stderr",
          "text": [
            "/usr/local/lib/python3.7/dist-packages/torch/nn/functional.py:1933: UserWarning: nn.functional.tanh is deprecated. Use torch.tanh instead.\n",
            "  warnings.warn(\"nn.functional.tanh is deprecated. Use torch.tanh instead.\")\n"
          ]
        },
        {
          "output_type": "stream",
          "name": "stdout",
          "text": [
            "epoch: 1000, loss: 0.28487250208854675\n",
            "epoch: 2000, loss: 0.2721412777900696\n",
            "epoch: 3000, loss: 0.265056312084198\n",
            "epoch: 4000, loss: 0.2602444887161255\n",
            "epoch: 5000, loss: 0.25680869817733765\n",
            "epoch: 6000, loss: 0.25426480174064636\n",
            "epoch: 7000, loss: 0.2523210644721985\n",
            "epoch: 8000, loss: 0.25079572200775146\n",
            "epoch: 9000, loss: 0.24957141280174255\n",
            "epoch: 10000, loss: 0.24856963753700256\n"
          ]
        }
      ]
    },
    {
      "cell_type": "code",
      "source": [
        " \n",
        "def plot_network(x):\n",
        "    x = Variable(torch.from_numpy(x).float())\n",
        "    x1 = torch.mm(x, w1) + b1\n",
        "    x1 = F.tanh(x1)\n",
        "    x2 = torch.mm(x1, w2) + b2\n",
        "    out = F.sigmoid(x2)\n",
        "    out = (out > 0.5) * 1\n",
        "    return out.data.numpy()"
      ],
      "metadata": {
        "id": "uzEJ8uoZdxSY"
      },
      "execution_count": 50,
      "outputs": []
    },
    {
      "cell_type": "code",
      "source": [
        "plot_decision_boundary(lambda x: plot_network(x), x.numpy(), y.numpy())\n",
        "plt.title('2 layer network')"
      ],
      "metadata": {
        "colab": {
          "base_uri": "https://localhost:8080/",
          "height": 397
        },
        "id": "FgOBOmz4dztI",
        "outputId": "19909461-f7a8-4279-e262-e169a71c535d"
      },
      "execution_count": 51,
      "outputs": [
        {
          "output_type": "stream",
          "name": "stderr",
          "text": [
            "/usr/local/lib/python3.7/dist-packages/torch/nn/functional.py:1933: UserWarning: nn.functional.tanh is deprecated. Use torch.tanh instead.\n",
            "  warnings.warn(\"nn.functional.tanh is deprecated. Use torch.tanh instead.\")\n",
            "/usr/local/lib/python3.7/dist-packages/torch/nn/functional.py:1944: UserWarning: nn.functional.sigmoid is deprecated. Use torch.sigmoid instead.\n",
            "  warnings.warn(\"nn.functional.sigmoid is deprecated. Use torch.sigmoid instead.\")\n"
          ]
        },
        {
          "output_type": "execute_result",
          "data": {
            "text/plain": [
              "Text(0.5, 1.0, '2 layer network')"
            ]
          },
          "metadata": {},
          "execution_count": 51
        },
        {
          "output_type": "display_data",
          "data": {
            "text/plain": [
              "<Figure size 432x288 with 1 Axes>"
            ],
            "image/png": "[encoded data removed]"
          },
          "metadata": {
            "needs_background": "light"
          }
        }
      ]
    },
    {
      "cell_type": "code",
      "source": [
        "seq_net = nn.Sequential(\n",
        "nn.Linear(2, 4), # PyTorch 􏲙􏰌􏴠􏰕􏵐􏰑wx + b \n",
        "nn.Tanh(),\n",
        "nn.Linear(4, 1)\n",
        ")"
      ],
      "metadata": {
        "id": "nJgviWVSftB8"
      },
      "execution_count": 53,
      "outputs": []
    },
    {
      "cell_type": "code",
      "source": [
        "seq_net[0] # 􏲫􏰃􏵐"
      ],
      "metadata": {
        "colab": {
          "base_uri": "https://localhost:8080/"
        },
        "id": "Bj3Axbn3ftFu",
        "outputId": "cb35c862-c57d-491f-918f-2e3285d5a0ea"
      },
      "execution_count": 54,
      "outputs": [
        {
          "output_type": "execute_result",
          "data": {
            "text/plain": [
              "Linear(in_features=2, out_features=4, bias=True)"
            ]
          },
          "metadata": {},
          "execution_count": 54
        }
      ]
    },
    {
      "cell_type": "code",
      "source": [
        "w0 = seq_net[0].weight\n",
        "print(w0)"
      ],
      "metadata": {
        "colab": {
          "base_uri": "https://localhost:8080/"
        },
        "id": "MeIviC47ftQh",
        "outputId": "dde8fd1a-60db-4b4e-caa4-ef9813316ba7"
      },
      "execution_count": 55,
      "outputs": [
        {
          "output_type": "stream",
          "name": "stdout",
          "text": [
            "Parameter containing:\n",
            "tensor([[-0.2667, -0.0303],\n",
            "        [-0.3299,  0.3937],\n",
            "        [-0.4156,  0.6193],\n",
            "        [ 0.5447, -0.2737]], requires_grad=True)\n"
          ]
        }
      ]
    },
    {
      "cell_type": "code",
      "source": [
        "param = seq_net.parameters()\n",
        "optim = torch.optim.SGD(param, 1.)"
      ],
      "metadata": {
        "id": "Xz3B9evYftVI"
      },
      "execution_count": 56,
      "outputs": []
    },
    {
      "cell_type": "code",
      "source": [
        "for e in range(10000):\n",
        "    out = seq_net(Variable(x))\n",
        "    loss = criterion(out, Variable(y))\n",
        "    optim.zero_grad()\n",
        "    loss.backward()\n",
        "    optim.step()\n",
        "    if (e + 1) % 1000 == 0:\n",
        "        print('epoch: {}, loss: {}'.format(e+1, loss.item()))"
      ],
      "metadata": {
        "colab": {
          "base_uri": "https://localhost:8080/"
        },
        "id": "Xr5T-9svftZO",
        "outputId": "8d412972-4092-4801-ed7c-553e730f3cde"
      },
      "execution_count": 58,
      "outputs": [
        {
          "output_type": "stream",
          "name": "stdout",
          "text": [
            "epoch: 1000, loss: 0.18195705115795135\n",
            "epoch: 2000, loss: 0.17867788672447205\n",
            "epoch: 3000, loss: 0.17690569162368774\n",
            "epoch: 4000, loss: 0.1754940152168274\n",
            "epoch: 5000, loss: 0.17383138835430145\n",
            "epoch: 6000, loss: 0.1663864254951477\n",
            "epoch: 7000, loss: 0.16490451991558075\n",
            "epoch: 8000, loss: 0.16454054415225983\n",
            "epoch: 9000, loss: 0.16425077617168427\n",
            "epoch: 10000, loss: 0.16401159763336182\n"
          ]
        }
      ]
    },
    {
      "cell_type": "code",
      "source": [
        "def plot_seq(x):\n",
        "    out = F.sigmoid(seq_net(Variable(torch.from_numpy(x).float()))).data.numpy()\n",
        "    out = (out > 0.5) * 1\n",
        "    return out"
      ],
      "metadata": {
        "id": "nYQbhqbtgNGz"
      },
      "execution_count": 59,
      "outputs": []
    },
    {
      "cell_type": "code",
      "source": [
        "plot_decision_boundary(lambda x: plot_seq(x), x.numpy(), y.numpy())\n",
        "plt.title('sequential')"
      ],
      "metadata": {
        "colab": {
          "base_uri": "https://localhost:8080/",
          "height": 364
        },
        "id": "xGYD1TuWgNLj",
        "outputId": "a42f9e58-8114-4a9d-e52c-7ea0ae7826cd"
      },
      "execution_count": 60,
      "outputs": [
        {
          "output_type": "stream",
          "name": "stderr",
          "text": [
            "/usr/local/lib/python3.7/dist-packages/torch/nn/functional.py:1944: UserWarning: nn.functional.sigmoid is deprecated. Use torch.sigmoid instead.\n",
            "  warnings.warn(\"nn.functional.sigmoid is deprecated. Use torch.sigmoid instead.\")\n"
          ]
        },
        {
          "output_type": "execute_result",
          "data": {
            "text/plain": [
              "Text(0.5, 1.0, 'sequential')"
            ]
          },
          "metadata": {},
          "execution_count": 60
        },
        {
          "output_type": "display_data",
          "data": {
            "text/plain": [
              "<Figure size 432x288 with 1 Axes>"
            ],
            "image/png": "[encoded data removed]"
          },
          "metadata": {
            "needs_background": "light"
          }
        }
      ]
    },
    {
      "cell_type": "code",
      "source": [
        "torch.save(seq_net, 'save_seq_net.pth')"
      ],
      "metadata": {
        "id": "HGUm7Z5DgNSY"
      },
      "execution_count": 61,
      "outputs": []
    },
    {
      "cell_type": "code",
      "source": [
        "seq_net1 = torch.load('save_seq_net.pth')"
      ],
      "metadata": {
        "id": "Wd4jbxYWgNXS"
      },
      "execution_count": 62,
      "outputs": []
    },
    {
      "cell_type": "code",
      "source": [
        "seq_net1"
      ],
      "metadata": {
        "colab": {
          "base_uri": "https://localhost:8080/"
        },
        "id": "j9T5x2smkNrk",
        "outputId": "de12ac58-0264-4716-bc4b-7c1fbaf9a572"
      },
      "execution_count": 64,
      "outputs": [
        {
          "output_type": "execute_result",
          "data": {
            "text/plain": [
              "Sequential(\n",
              "  (0): Linear(in_features=2, out_features=4, bias=True)\n",
              "  (1): Tanh()\n",
              "  (2): Linear(in_features=4, out_features=1, bias=True)\n",
              ")"
            ]
          },
          "metadata": {},
          "execution_count": 64
        }
      ]
    },
    {
      "cell_type": "code",
      "source": [
        "print(seq_net1[0].weight)"
      ],
      "metadata": {
        "colab": {
          "base_uri": "https://localhost:8080/"
        },
        "id": "9o3yp9q6gNbV",
        "outputId": "043d864d-30f9-4581-c904-355868014141"
      },
      "execution_count": 63,
      "outputs": [
        {
          "output_type": "stream",
          "name": "stdout",
          "text": [
            "Parameter containing:\n",
            "tensor([[ 0.2238,  3.8465],\n",
            "        [-0.1662,  6.5034],\n",
            "        [-7.4244,  9.1070],\n",
            "        [ 6.4545,  7.7413]], requires_grad=True)\n"
          ]
        }
      ]
    },
    {
      "cell_type": "code",
      "source": [
        " \n",
        "class module_net(nn.Module):\n",
        "    def __init__(self, num_input, num_hidden, num_output):\n",
        "        super(module_net, self).__init__()\n",
        "        self.layer1 = nn.Linear(num_input, num_hidden)\n",
        "        self.layer2 = nn.Tanh()\n",
        "        self.layer3 = nn.Linear(num_hidden, num_output)\n",
        "    def forward(self, x):\n",
        "        x = self.layer1(x)\n",
        "        x = self.layer2(x)\n",
        "        x = self.layer3(x)\n",
        "        return x"
      ],
      "metadata": {
        "id": "KhTCH_72q1R0"
      },
      "execution_count": 5,
      "outputs": []
    },
    {
      "cell_type": "code",
      "source": [
        " mo_net = module_net(2, 4, 1)"
      ],
      "metadata": {
        "id": "dNBqo2Z8q1XL"
      },
      "execution_count": 6,
      "outputs": []
    },
    {
      "cell_type": "code",
      "source": [
        "l1 = mo_net.layer1 \n",
        "print(l1)"
      ],
      "metadata": {
        "colab": {
          "base_uri": "https://localhost:8080/"
        },
        "id": "Y9cgt9x2q1c7",
        "outputId": "fcdabe67-bf1e-463d-b540-6fa225d9dbbb"
      },
      "execution_count": 8,
      "outputs": [
        {
          "output_type": "stream",
          "name": "stdout",
          "text": [
            "Linear(in_features=2, out_features=4, bias=True)\n"
          ]
        }
      ]
    },
    {
      "cell_type": "code",
      "source": [
        "print(l1.weight)"
      ],
      "metadata": {
        "colab": {
          "base_uri": "https://localhost:8080/"
        },
        "id": "6ShiDGNMq1kj",
        "outputId": "e894959d-9859-4878-cd8c-32cdcfe08ea8"
      },
      "execution_count": 9,
      "outputs": [
        {
          "output_type": "stream",
          "name": "stdout",
          "text": [
            "Parameter containing:\n",
            "tensor([[-0.0924, -0.1841],\n",
            "        [-0.5574, -0.3696],\n",
            "        [-0.5594,  0.5516],\n",
            "        [ 0.5910, -0.0924]], requires_grad=True)\n"
          ]
        }
      ]
    },
    {
      "cell_type": "code",
      "source": [
        "optim = torch.optim.SGD(mo_net.parameters(), 1.)"
      ],
      "metadata": {
        "id": "LTNIKLPLq1sN"
      },
      "execution_count": 10,
      "outputs": []
    },
    {
      "cell_type": "code",
      "source": [
        "for e in range(10000):\n",
        "    out = mo_net(Variable(x))\n",
        "    loss = criterion(out, Variable(y))\n",
        "    optim.zero_grad()\n",
        "    loss.backward()\n",
        "    optim.step()\n",
        "    if (e + 1) % 1000 == 0:\n",
        "        print('epoch: {}, loss: {}'.format(e+1, loss.item()))"
      ],
      "metadata": {
        "colab": {
          "base_uri": "https://localhost:8080/"
        },
        "id": "c6z_BTs6q123",
        "outputId": "bdcaa49f-cb01-421d-cfc2-cc750191e2fb"
      },
      "execution_count": 22,
      "outputs": [
        {
          "output_type": "stream",
          "name": "stdout",
          "text": [
            "epoch: 1000, loss: 0.29387083649635315\n",
            "epoch: 2000, loss: 0.2819059491157532\n",
            "epoch: 3000, loss: 0.2746082544326782\n",
            "epoch: 4000, loss: 0.2680000960826874\n",
            "epoch: 5000, loss: 0.26347094774246216\n",
            "epoch: 6000, loss: 0.26025399565696716\n",
            "epoch: 7000, loss: 0.2578389048576355\n",
            "epoch: 8000, loss: 0.25594642758369446\n",
            "epoch: 9000, loss: 0.25441864132881165\n",
            "epoch: 10000, loss: 0.2531566023826599\n"
          ]
        }
      ]
    },
    {
      "cell_type": "code",
      "source": [
        " \n",
        "def plot_network(x):\n",
        "    x = Variable(torch.from_numpy(x).float())\n",
        "    x1 = torch.mm(x, w1) + b1\n",
        "    x1 = F.tanh(x1)\n",
        "    x2 = torch.mm(x1, w2) + b2\n",
        "    out = F.sigmoid(x2)\n",
        "    out = (out > 0.5) * 1\n",
        "    return out.data.numpy()"
      ],
      "metadata": {
        "id": "RG-a6b3Lq16w"
      },
      "execution_count": 23,
      "outputs": []
    },
    {
      "cell_type": "code",
      "source": [
        "plot_decision_boundary(lambda x: plot_network(x), x.numpy(), y.numpy())\n",
        "plt.title('2 layer network')"
      ],
      "metadata": {
        "colab": {
          "base_uri": "https://localhost:8080/",
          "height": 397
        },
        "id": "10IJblRZq2HW",
        "outputId": "246f54a4-58a1-4319-f0bc-5041bb9c2b07"
      },
      "execution_count": 25,
      "outputs": [
        {
          "output_type": "stream",
          "name": "stderr",
          "text": [
            "/usr/local/lib/python3.7/dist-packages/torch/nn/functional.py:1933: UserWarning: nn.functional.tanh is deprecated. Use torch.tanh instead.\n",
            "  warnings.warn(\"nn.functional.tanh is deprecated. Use torch.tanh instead.\")\n",
            "/usr/local/lib/python3.7/dist-packages/torch/nn/functional.py:1944: UserWarning: nn.functional.sigmoid is deprecated. Use torch.sigmoid instead.\n",
            "  warnings.warn(\"nn.functional.sigmoid is deprecated. Use torch.sigmoid instead.\")\n"
          ]
        },
        {
          "output_type": "execute_result",
          "data": {
            "text/plain": [
              "Text(0.5, 1.0, '2 layer network')"
            ]
          },
          "metadata": {},
          "execution_count": 25
        },
        {
          "output_type": "display_data",
          "data": {
            "text/plain": [
              "<Figure size 432x288 with 1 Axes>"
            ],
            "image/png": "[encoded data removed]"
          },
          "metadata": {
            "needs_background": "light"
          }
        }
      ]
    },
    {
      "cell_type": "code",
      "source": [
        " \n",
        "net = nn.Sequential(\n",
        "    nn.Linear(2, 10),\n",
        "    nn.Tanh(),\n",
        "    nn.Linear(10, 10),\n",
        "    nn.Tanh(),\n",
        "    nn.Linear(10, 10),\n",
        "    nn.Tanh(),\n",
        "    nn.Linear(10, 1)\n",
        ")\n",
        "optim = torch.optim.SGD(net.parameters(), 0.1)"
      ],
      "metadata": {
        "id": "MdcrQOJW1Ccs"
      },
      "execution_count": 26,
      "outputs": []
    },
    {
      "cell_type": "code",
      "source": [
        "for e in range(20000):\n",
        "    out = net(Variable(x))\n",
        "    loss = criterion(out, Variable(y))\n",
        "    optim.zero_grad()\n",
        "    loss.backward()\n",
        "    optim.step()\n",
        "    if (e + 1) % 1000 == 0:\n",
        "        print('epoch: {}, loss: {}'.format(e+1, loss.item()))"
      ],
      "metadata": {
        "colab": {
          "base_uri": "https://localhost:8080/"
        },
        "id": "WNgMog7g1Coq",
        "outputId": "cd6ea319-1dde-48f7-cadd-838e4f48b622"
      },
      "execution_count": 27,
      "outputs": [
        {
          "output_type": "stream",
          "name": "stdout",
          "text": [
            "epoch: 1000, loss: 0.27120232582092285\n",
            "epoch: 2000, loss: 0.23454080522060394\n",
            "epoch: 3000, loss: 0.2145058810710907\n",
            "epoch: 4000, loss: 0.2029571384191513\n",
            "epoch: 5000, loss: 0.1957227736711502\n",
            "epoch: 6000, loss: 0.19058282673358917\n",
            "epoch: 7000, loss: 0.1865023970603943\n",
            "epoch: 8000, loss: 0.1830226331949234\n",
            "epoch: 9000, loss: 0.17986084520816803\n",
            "epoch: 10000, loss: 0.17682233452796936\n",
            "epoch: 11000, loss: 0.173771470785141\n",
            "epoch: 12000, loss: 0.1705898493528366\n",
            "epoch: 13000, loss: 0.1671275645494461\n",
            "epoch: 14000, loss: 0.16366323828697205\n",
            "epoch: 15000, loss: 0.16013234853744507\n",
            "epoch: 16000, loss: 0.1569691151380539\n",
            "epoch: 17000, loss: 0.1542227864265442\n",
            "epoch: 18000, loss: 0.15165141224861145\n",
            "epoch: 19000, loss: 0.1497642993927002\n",
            "epoch: 20000, loss: 0.14782394468784332\n"
          ]
        }
      ]
    },
    {
      "cell_type": "code",
      "source": [
        " \n",
        "def plot_net(x):\n",
        "    out = F.sigmoid(net(Variable(torch.from_numpy(x).float()))).data.numpy()\n",
        "    out = (out > 0.5) * 1\n",
        "    return out\n",
        "plot_decision_boundary(lambda x: plot_net(x), x.numpy(), y.numpy())\n",
        "plt.title('sequential')"
      ],
      "metadata": {
        "colab": {
          "base_uri": "https://localhost:8080/",
          "height": 364
        },
        "id": "RM9mmTp-1Cv_",
        "outputId": "e1a473b1-8bb3-414e-f94d-80442d76216d"
      },
      "execution_count": 28,
      "outputs": [
        {
          "output_type": "stream",
          "name": "stderr",
          "text": [
            "/usr/local/lib/python3.7/dist-packages/torch/nn/functional.py:1944: UserWarning: nn.functional.sigmoid is deprecated. Use torch.sigmoid instead.\n",
            "  warnings.warn(\"nn.functional.sigmoid is deprecated. Use torch.sigmoid instead.\")\n"
          ]
        },
        {
          "output_type": "execute_result",
          "data": {
            "text/plain": [
              "Text(0.5, 1.0, 'sequential')"
            ]
          },
          "metadata": {},
          "execution_count": 28
        },
        {
          "output_type": "display_data",
          "data": {
            "text/plain": [
              "<Figure size 432x288 with 1 Axes>"
            ],
            "image/png": "[encoded data removed]"
          },
          "metadata": {
            "needs_background": "light"
          }
        }
      ]
    },
    {
      "cell_type": "code",
      "source": [
        " \n",
        "class module_net_1(nn.Module):\n",
        "    def __init__(self, num_input, num_hidden, num_output):\n",
        "        super(module_net, self).__init__()\n",
        "        self.layer1 = nn.Linear(num_input, num_hidden)\n",
        "        self.layer2 = nn.Tanh()\n",
        "        self.layer3 = nn.Linear(num_hidden, num_output)\n",
        "    def forward(self, x):\n",
        "        x = self.layer1(x)\n",
        "        x = self.layer2(x)\n",
        "        x = self.layer1(x)\n",
        "        x = self.layer2(x)\n",
        "        x = self.layer1(x)\n",
        "        x = self.layer2(x)\n",
        "        return x"
      ],
      "metadata": {
        "id": "oe8CNxdw1C4H"
      },
      "execution_count": 29,
      "outputs": []
    },
    {
      "cell_type": "code",
      "source": [
        "mo_net_1 = module_net(2, 10, 1)"
      ],
      "metadata": {
        "id": "DfDHz0-21DCt"
      },
      "execution_count": 30,
      "outputs": []
    },
    {
      "cell_type": "code",
      "source": [
        "optim = torch.optim.SGD(mo_net_1.parameters(), 1.)"
      ],
      "metadata": {
        "id": "XE5noR0k1yDk"
      },
      "execution_count": 35,
      "outputs": []
    },
    {
      "cell_type": "code",
      "source": [
        "for e in range(10000):\n",
        "    out = mo_net_1(Variable(x))\n",
        "    loss = criterion(out, Variable(y))\n",
        "    optim.zero_grad()\n",
        "    loss.backward()\n",
        "    optim.step()\n",
        "    if (e + 1) % 1000 == 0:\n",
        "        print('epoch: {}, loss: {}'.format(e+1, loss.item()))"
      ],
      "metadata": {
        "colab": {
          "base_uri": "https://localhost:8080/"
        },
        "id": "ohaYzKUu1pMU",
        "outputId": "0ae6654b-258f-4f80-892f-4970b1e1f93c"
      },
      "execution_count": 36,
      "outputs": [
        {
          "output_type": "stream",
          "name": "stdout",
          "text": [
            "epoch: 1000, loss: 0.2543288767337799\n",
            "epoch: 2000, loss: 0.21352994441986084\n",
            "epoch: 3000, loss: 0.1988528072834015\n",
            "epoch: 4000, loss: 0.186181902885437\n",
            "epoch: 5000, loss: 0.17814397811889648\n",
            "epoch: 6000, loss: 0.17285889387130737\n",
            "epoch: 7000, loss: 0.1722237765789032\n",
            "epoch: 8000, loss: 0.17018985748291016\n",
            "epoch: 9000, loss: 0.16850601136684418\n",
            "epoch: 10000, loss: 0.167132169008255\n"
          ]
        }
      ]
    },
    {
      "cell_type": "code",
      "source": [
        " \n",
        "def plot_net(x):\n",
        "    out = F.sigmoid(mo_net_1(Variable(torch.from_numpy(x).float()))).data.numpy()\n",
        "    out = (out > 0.5) * 1\n",
        "    return out\n",
        "plot_decision_boundary(lambda x: plot_net(x), x.numpy(), y.numpy())\n",
        "plt.title('sequential_1')"
      ],
      "metadata": {
        "colab": {
          "base_uri": "https://localhost:8080/",
          "height": 364
        },
        "id": "v24ML0_K1pRV",
        "outputId": "a67a98f6-42d8-474b-98d7-3064e0e70061"
      },
      "execution_count": 41,
      "outputs": [
        {
          "output_type": "stream",
          "name": "stderr",
          "text": [
            "/usr/local/lib/python3.7/dist-packages/torch/nn/functional.py:1944: UserWarning: nn.functional.sigmoid is deprecated. Use torch.sigmoid instead.\n",
            "  warnings.warn(\"nn.functional.sigmoid is deprecated. Use torch.sigmoid instead.\")\n"
          ]
        },
        {
          "output_type": "execute_result",
          "data": {
            "text/plain": [
              "Text(0.5, 1.0, 'sequential_1')"
            ]
          },
          "metadata": {},
          "execution_count": 41
        },
        {
          "output_type": "display_data",
          "data": {
            "text/plain": [
              "<Figure size 432x288 with 1 Axes>"
            ],
            "image/png": "[encoded data removed]"
          },
          "metadata": {
            "needs_background": "light"
          }
        }
      ]
    },
    {
      "cell_type": "code",
      "source": [
        "import numpy as np\n",
        "import torch\n",
        "from torchvision.datasets import mnist # 􏴭􏲇 pytorch 􏴈􏶬􏰌 mnist 􏲼􏲽\n",
        "from torch import nn\n",
        "from torch.autograd import Variable"
      ],
      "metadata": {
        "id": "o4SLOsCT1phG"
      },
      "execution_count": 42,
      "outputs": []
    },
    {
      "cell_type": "code",
      "source": [
        "train_set = mnist.MNIST('./data', train=True, download=True) \n",
        "test_set = mnist.MNIST('./data', train=False, download=True)"
      ],
      "metadata": {
        "colab": {
          "base_uri": "https://localhost:8080/",
          "height": 408,
          "referenced_widgets": [
            "b02ba848a9294b51b0ea9a5ea063ac5b",
            "98a167e6d15349e484b213b1df16dbef",
            "1fbc035bcdb14d929cd7b26b8f94d14d",
            "7e81880c426842acb378f243c6269091",
            "1fcf57904273448294bc1d7c76717745",
            "9cb01314221140e8a92770cec4131e19",
            "f49c57ac19964c4088a4b3a078629275",
            "4e56b32385ac49929a253a073794d7cb",
            "1767ac64254d4bf8929e14e8f1e604be",
            "7702a7bef2a74298845ed88dad617328",
            "a85eeb3967394385bbb557f277a0b1d7",
            "72dd4fdb74b84504bb24429b1fb0ef72",
            "9f518bb06fd5492793db8782dbf8bfa3",
            "46b9797669bc48d38461c483e224385c",
            "fb8ebfaf9b304b0cbdbfad46875629bb",
            "981a95f6f81d4c91abe1767ee16120fe",
            "7b4e344cc0364996a1fd48f4f20296a7",
            "3454da6f42ef46e381db8ddb84f98aa0",
            "b2060ea258874d469147b5fec203bde9",
            "7fd2b5614dd7487ca6e41e1a75445b3f",
            "f3dbec23a51c4d2ab49b3a6d5bdae061",
            "7f6f7e7ae919420a8cbcf26f70c75cb0",
            "e78134c81902491a9f42a976150385d1",
            "945a0746ac1a4ffe938adc4c5797f5c9",
            "2da013ea678e4bf79d6836f6e5c8597d",
            "1ac8ae8990314b63ac39f7a04741afca",
            "fefc354b1a5741e99732309e783e2f39",
            "e42fa36192cc4b1384b3624d94f77f9b",
            "3417519931954d1eac57e12ce5d2ea89",
            "af57a34478c7455a898848a7c7b0e4c3",
            "e40c6864e7b845c4be09ef07ed6a08e7",
            "3d3089555a9a49ddaa87fdea6383cabc",
            "8a8439f10e644422943e52464cba196e",
            "0c237447e39c4a888a626a8f3f1499ae",
            "692c668bdbe343aba3d8c75d1c24d232",
            "9d129752e9f0486bb8790cb0af21294d",
            "7d6792da310b481681763d6dc991a267",
            "f07a977c49b44fc1bd058fbfb3cb7413",
            "2850c4e6b40d401bbfbeceaff2352a80",
            "0d74071ccd57444484090746cb386b31",
            "a8e83764ba664c5d840a4e3e6a3db505",
            "ec687e0d127c4f6b97fa77ffd026162b",
            "a9074728474f45828b3c48aa3e091c17",
            "a72cfd2b03b246ffb7530aa9064facff"
          ]
        },
        "id": "HVg9WLyG6EoL",
        "outputId": "3d79b966-7be7-46b1-a156-1b2610325515"
      },
      "execution_count": 43,
      "outputs": [
        {
          "output_type": "stream",
          "name": "stdout",
          "text": [
            "Downloading http://yann.lecun.com/exdb/mnist/train-images-idx3-ubyte.gz\n",
            "Downloading http://yann.lecun.com/exdb/mnist/train-images-idx3-ubyte.gz to ./data/MNIST/raw/train-images-idx3-ubyte.gz\n"
          ]
        },
        {
          "output_type": "display_data",
          "data": {
            "text/plain": [
              "  0%|          | 0/9912422 [00:00<?, ?it/s]"
            ],
            "application/vnd.jupyter.widget-view+json": {
              "version_major": 2,
              "version_minor": 0,
              "model_id": "b02ba848a9294b51b0ea9a5ea063ac5b"
            }
          },
          "metadata": {}
        },
        {
          "output_type": "stream",
          "name": "stdout",
          "text": [
            "Extracting ./data/MNIST/raw/train-images-idx3-ubyte.gz to ./data/MNIST/raw\n",
            "\n",
            "Downloading http://yann.lecun.com/exdb/mnist/train-labels-idx1-ubyte.gz\n",
            "Downloading http://yann.lecun.com/exdb/mnist/train-labels-idx1-ubyte.gz to ./data/MNIST/raw/train-labels-idx1-ubyte.gz\n"
          ]
        },
        {
          "output_type": "display_data",
          "data": {
            "text/plain": [
              "  0%|          | 0/28881 [00:00<?, ?it/s]"
            ],
            "application/vnd.jupyter.widget-view+json": {
              "version_major": 2,
              "version_minor": 0,
              "model_id": "72dd4fdb74b84504bb24429b1fb0ef72"
            }
          },
          "metadata": {}
        },
        {
          "output_type": "stream",
          "name": "stdout",
          "text": [
            "Extracting ./data/MNIST/raw/train-labels-idx1-ubyte.gz to ./data/MNIST/raw\n",
            "\n",
            "Downloading http://yann.lecun.com/exdb/mnist/t10k-images-idx3-ubyte.gz\n",
            "Downloading http://yann.lecun.com/exdb/mnist/t10k-images-idx3-ubyte.gz to ./data/MNIST/raw/t10k-images-idx3-ubyte.gz\n"
          ]
        },
        {
          "output_type": "display_data",
          "data": {
            "text/plain": [
              "  0%|          | 0/1648877 [00:00<?, ?it/s]"
            ],
            "application/vnd.jupyter.widget-view+json": {
              "version_major": 2,
              "version_minor": 0,
              "model_id": "e78134c81902491a9f42a976150385d1"
            }
          },
          "metadata": {}
        },
        {
          "output_type": "stream",
          "name": "stdout",
          "text": [
            "Extracting ./data/MNIST/raw/t10k-images-idx3-ubyte.gz to ./data/MNIST/raw\n",
            "\n",
            "Downloading http://yann.lecun.com/exdb/mnist/t10k-labels-idx1-ubyte.gz\n",
            "Downloading http://yann.lecun.com/exdb/mnist/t10k-labels-idx1-ubyte.gz to ./data/MNIST/raw/t10k-labels-idx1-ubyte.gz\n"
          ]
        },
        {
          "output_type": "display_data",
          "data": {
            "text/plain": [
              "  0%|          | 0/4542 [00:00<?, ?it/s]"
            ],
            "application/vnd.jupyter.widget-view+json": {
              "version_major": 2,
              "version_minor": 0,
              "model_id": "0c237447e39c4a888a626a8f3f1499ae"
            }
          },
          "metadata": {}
        },
        {
          "output_type": "stream",
          "name": "stdout",
          "text": [
            "Extracting ./data/MNIST/raw/t10k-labels-idx1-ubyte.gz to ./data/MNIST/raw\n",
            "\n"
          ]
        }
      ]
    },
    {
      "cell_type": "code",
      "source": [
        "def data_tf(x):\n",
        "  x = np.array(x, dtype='float32') / 255\n",
        "  x = (x - 0.5) / 0.5 \n",
        "  x = x.reshape((-1,))\n",
        "  x = torch.from_numpy(x)\n",
        "  return x\n",
        "train_set = mnist.MNIST('./data', train=True, transform=data_tf, download=True) # 􏴓􏴔 􏷳􏲇􏲼􏲽􏳖􏰑􏷻􏵡􏴧􏴨􏰌􏲼􏲽􏱴􏵄\n",
        "test_set = mnist.MNIST('./data', train=False, transform=data_tf, download=True)"
      ],
      "metadata": {
        "id": "CAignWsm6XKY"
      },
      "execution_count": 44,
      "outputs": []
    },
    {
      "cell_type": "code",
      "source": [
        "from torch.utils.data import DataLoader\n",
        "train_data = DataLoader(train_set, batch_size=64, shuffle=True) \n",
        "test_data = DataLoader(test_set, batch_size=128, shuffle=False)"
      ],
      "metadata": {
        "id": "Wdigu1cC6XdI"
      },
      "execution_count": 45,
      "outputs": []
    },
    {
      "cell_type": "code",
      "source": [
        "a, a_label = next(iter(train_data))\n",
        " "
      ],
      "metadata": {
        "id": "ts7ok9LU6XlD"
      },
      "execution_count": 46,
      "outputs": []
    },
    {
      "cell_type": "code",
      "source": [
        "print(a.shape) \n",
        "print(a_label.shape)"
      ],
      "metadata": {
        "colab": {
          "base_uri": "https://localhost:8080/"
        },
        "id": "1hTN6qJQ6Xrg",
        "outputId": "e64b23b9-8afb-4940-b656-68b9b5403694"
      },
      "execution_count": 47,
      "outputs": [
        {
          "output_type": "stream",
          "name": "stdout",
          "text": [
            "torch.Size([64, 784])\n",
            "torch.Size([64])\n"
          ]
        }
      ]
    },
    {
      "cell_type": "code",
      "source": [
        "net = nn.Sequential(\n",
        "    nn.Linear(784, 400),\n",
        "    nn.ReLU(),\n",
        "    nn.Linear(400, 200),\n",
        "    nn.ReLU(),\n",
        "    nn.Linear(200, 100),\n",
        "    nn.ReLU(),\n",
        "    nn.Linear(100, 10)\n",
        ")"
      ],
      "metadata": {
        "id": "sNuVc6ee6X0E"
      },
      "execution_count": 48,
      "outputs": []
    },
    {
      "cell_type": "code",
      "source": [
        "net"
      ],
      "metadata": {
        "colab": {
          "base_uri": "https://localhost:8080/"
        },
        "id": "IasDhFgg6YFM",
        "outputId": "db0c52ac-4617-4e36-9be2-26d924febecf"
      },
      "execution_count": 49,
      "outputs": [
        {
          "output_type": "execute_result",
          "data": {
            "text/plain": [
              "Sequential(\n",
              "  (0): Linear(in_features=784, out_features=400, bias=True)\n",
              "  (1): ReLU()\n",
              "  (2): Linear(in_features=400, out_features=200, bias=True)\n",
              "  (3): ReLU()\n",
              "  (4): Linear(in_features=200, out_features=100, bias=True)\n",
              "  (5): ReLU()\n",
              "  (6): Linear(in_features=100, out_features=10, bias=True)\n",
              ")"
            ]
          },
          "metadata": {},
          "execution_count": 49
        }
      ]
    },
    {
      "cell_type": "code",
      "source": [
        "criterion = nn.CrossEntropyLoss()\n",
        "optimizer = torch.optim.SGD(net.parameters(), 1e-1) # 􏱔􏰋􏳹􏱀􏴩􏳥􏲚􏵧􏰑􏱂􏱃􏶈 0.1"
      ],
      "metadata": {
        "id": "IoNgBeXP6-Yi"
      },
      "execution_count": 50,
      "outputs": []
    },
    {
      "cell_type": "code",
      "source": [
        "losses = [] \n",
        "acces = [] \n",
        "eval_losses = [] \n",
        "eval_acces = []\n",
        "for e in range(20):\n",
        "    train_loss = 0\n",
        "    train_acc = 0\n",
        "    net.train()\n",
        "    for im, label in train_data:\n",
        "      im = Variable(im)\n",
        "      label = Variable(label)\n",
        "      out = net(im)\n",
        "      loss = criterion(out, label)\n",
        "      optimizer.zero_grad()\n",
        "      loss.backward()\n",
        "      optimizer.step()\n",
        "      train_loss += loss.item()\n",
        "      _, pred = out.max(1)\n",
        "      num_correct = (pred == label).sum().item()\n",
        "      acc = num_correct / im.shape[0]\n",
        "      train_acc += acc\n",
        "    losses.append(train_loss / len(train_data)) \n",
        "    acces.append(train_acc / len(train_data))\n",
        "\n",
        "    eval_loss = 0\n",
        "    eval_acc = 0\n",
        "    net.eval() # 􏲂􏴵􏳒􏳢􏱋􏴛􏴜􏴵􏱥 \n",
        "    for im, label in test_data:\n",
        "        im = Variable(im)\n",
        "        label = Variable(label)\n",
        "        out = net(im)\n",
        "        loss = criterion(out, label)\n",
        "# 􏶆􏸂􏴥􏴦\n",
        "        eval_loss += loss.item()\n",
        "# 􏶆􏸂􏵁􏵿􏶈\n",
        "        _, pred = out.max(1)\n",
        "        num_correct = (pred == label).sum().item() \n",
        "        acc = num_correct / im.shape[0]\n",
        "        eval_acc += acc\n",
        "\n",
        "    eval_losses.append(eval_loss / len(test_data))\n",
        "    eval_acces.append(eval_acc / len(test_data))\n",
        "\n",
        "    print('epoch: {}, Train Loss: {:.6f}, Train Acc: {:.6f}, Eval Loss: {:.6f}, Eval Acc: {:.6f}'.format(e, train_loss / len(train_data), train_acc / len(train_data), eval_loss / len(test_data), eval_acc / len(test_data))) "
      ],
      "metadata": {
        "colab": {
          "base_uri": "https://localhost:8080/"
        },
        "id": "oCI6qsLZ6-gb",
        "outputId": "88f5bc2a-b26b-49f8-98b0-865fbc7e890b"
      },
      "execution_count": 53,
      "outputs": [
        {
          "output_type": "stream",
          "name": "stdout",
          "text": [
            "epoch: 0, Train Loss: 0.166311, Train Acc: 0.948361, Eval Loss: 0.194892, Eval Acc: 0.933742\n",
            "epoch: 1, Train Loss: 0.115328, Train Acc: 0.964069, Eval Loss: 0.220654, Eval Acc: 0.935028\n",
            "epoch: 2, Train Loss: 0.091969, Train Acc: 0.970949, Eval Loss: 0.096347, Eval Acc: 0.969838\n",
            "epoch: 3, Train Loss: 0.074576, Train Acc: 0.976529, Eval Loss: 0.093447, Eval Acc: 0.970728\n",
            "epoch: 4, Train Loss: 0.060570, Train Acc: 0.980660, Eval Loss: 0.081717, Eval Acc: 0.973892\n",
            "epoch: 5, Train Loss: 0.050374, Train Acc: 0.983542, Eval Loss: 0.414795, Eval Acc: 0.905953\n",
            "epoch: 6, Train Loss: 0.046945, Train Acc: 0.984791, Eval Loss: 0.095755, Eval Acc: 0.970431\n",
            "epoch: 7, Train Loss: 0.039496, Train Acc: 0.987373, Eval Loss: 0.071054, Eval Acc: 0.978936\n",
            "epoch: 8, Train Loss: 0.032148, Train Acc: 0.989472, Eval Loss: 0.083611, Eval Acc: 0.977057\n",
            "epoch: 9, Train Loss: 0.027737, Train Acc: 0.990688, Eval Loss: 0.084471, Eval Acc: 0.976562\n",
            "epoch: 10, Train Loss: 0.025304, Train Acc: 0.991871, Eval Loss: 0.070437, Eval Acc: 0.980222\n",
            "epoch: 11, Train Loss: 0.022494, Train Acc: 0.992687, Eval Loss: 0.063346, Eval Acc: 0.981013\n",
            "epoch: 12, Train Loss: 0.020069, Train Acc: 0.993520, Eval Loss: 0.063354, Eval Acc: 0.982694\n",
            "epoch: 13, Train Loss: 0.017170, Train Acc: 0.994153, Eval Loss: 0.094750, Eval Acc: 0.976760\n",
            "epoch: 14, Train Loss: 0.015190, Train Acc: 0.994803, Eval Loss: 0.067352, Eval Acc: 0.982991\n",
            "epoch: 15, Train Loss: 0.013363, Train Acc: 0.995736, Eval Loss: 0.072625, Eval Acc: 0.983584\n",
            "epoch: 16, Train Loss: 0.013122, Train Acc: 0.995886, Eval Loss: 0.072120, Eval Acc: 0.982991\n",
            "epoch: 17, Train Loss: 0.009535, Train Acc: 0.997035, Eval Loss: 0.178107, Eval Acc: 0.960443\n",
            "epoch: 18, Train Loss: 0.009010, Train Acc: 0.997468, Eval Loss: 0.085231, Eval Acc: 0.978145\n",
            "epoch: 19, Train Loss: 0.008255, Train Acc: 0.997618, Eval Loss: 0.067010, Eval Acc: 0.984078\n"
          ]
        }
      ]
    },
    {
      "cell_type": "code",
      "source": [
        "import matplotlib.pyplot as plt\n",
        "% matplotlib inline\n",
        "plt.title('train loss')\n",
        "plt.plot(np.arange(len(losses)), losses)"
      ],
      "metadata": {
        "colab": {
          "base_uri": "https://localhost:8080/",
          "height": 297
        },
        "id": "CinJqeyl6-oq",
        "outputId": "86b58916-8f69-45c3-cc9e-d414bacd7f25"
      },
      "execution_count": 54,
      "outputs": [
        {
          "output_type": "execute_result",
          "data": {
            "text/plain": [
              "[<matplotlib.lines.Line2D at 0x7f702cd45490>]"
            ]
          },
          "metadata": {},
          "execution_count": 54
        },
        {
          "output_type": "display_data",
          "data": {
            "text/plain": [
              "<Figure size 432x288 with 1 Axes>"
            ],
            "image/png": "[encoded data removed]"
          },
          "metadata": {
            "needs_background": "light"
          }
        }
      ]
    },
    {
      "cell_type": "code",
      "source": [
        "plt.plot(np.arange(len(acces)), acces)\n",
        "plt.title('train acc')"
      ],
      "metadata": {
        "colab": {
          "base_uri": "https://localhost:8080/",
          "height": 297
        },
        "id": "D__Ei3Ue6-vA",
        "outputId": "39f1b4ab-2b62-4bfa-afe5-339020dcaf6f"
      },
      "execution_count": 55,
      "outputs": [
        {
          "output_type": "execute_result",
          "data": {
            "text/plain": [
              "Text(0.5, 1.0, 'train acc')"
            ]
          },
          "metadata": {},
          "execution_count": 55
        },
        {
          "output_type": "display_data",
          "data": {
            "text/plain": [
              "<Figure size 432x288 with 1 Axes>"
            ],
            "image/png": "[encoded data removed]"
          },
          "metadata": {
            "needs_background": "light"
          }
        }
      ]
    },
    {
      "cell_type": "code",
      "source": [
        "plt.plot(np.arange(len(eval_losses)), eval_losses)\n",
        "plt.title('test loss')"
      ],
      "metadata": {
        "colab": {
          "base_uri": "https://localhost:8080/",
          "height": 297
        },
        "id": "Ufuxw1BY6-17",
        "outputId": "0e165f06-9ea9-409c-a365-003786b67882"
      },
      "execution_count": 56,
      "outputs": [
        {
          "output_type": "execute_result",
          "data": {
            "text/plain": [
              "Text(0.5, 1.0, 'test loss')"
            ]
          },
          "metadata": {},
          "execution_count": 56
        },
        {
          "output_type": "display_data",
          "data": {
            "text/plain": [
              "<Figure size 432x288 with 1 Axes>"
            ],
            "image/png": "[encoded data removed]"
          },
          "metadata": {
            "needs_background": "light"
          }
        }
      ]
    },
    {
      "cell_type": "code",
      "source": [
        "plt.plot(np.arange(len(eval_acces)), eval_acces)\n",
        "plt.title('test acc')"
      ],
      "metadata": {
        "colab": {
          "base_uri": "https://localhost:8080/",
          "height": 297
        },
        "id": "40pI8B_I6-_T",
        "outputId": "58cd7bdf-7449-46ff-afd4-c6b73a03a6af"
      },
      "execution_count": 57,
      "outputs": [
        {
          "output_type": "execute_result",
          "data": {
            "text/plain": [
              "Text(0.5, 1.0, 'test acc')"
            ]
          },
          "metadata": {},
          "execution_count": 57
        },
        {
          "output_type": "display_data",
          "data": {
            "text/plain": [
              "<Figure size 432x288 with 1 Axes>"
            ],
            "image/png": "[encoded data removed]"
          },
          "metadata": {
            "needs_background": "light"
          }
        }
      ]
    },
    {
      "cell_type": "code",
      "source": [
        " \n",
        "import numpy as np\n",
        "import torch\n",
        "from torch import nn"
      ],
      "metadata": {
        "id": "D7MyD-Iu6_Hb"
      },
      "execution_count": 58,
      "outputs": []
    },
    {
      "cell_type": "code",
      "source": [
        "net1 = nn.Sequential(\n",
        "    nn.Linear(30, 40),\n",
        "    nn.ReLU(),\n",
        "    nn.Linear(40, 50),\n",
        "    nn.ReLU(),\n",
        "    nn.Linear(50, 10)\n",
        ")"
      ],
      "metadata": {
        "id": "3Ok4h2Fe6_O4"
      },
      "execution_count": 59,
      "outputs": []
    },
    {
      "cell_type": "code",
      "source": [
        "w1 = net1[0].weight \n",
        "b1 = net1[0].bias"
      ],
      "metadata": {
        "id": "SsLPUtaX6_U5"
      },
      "execution_count": 60,
      "outputs": []
    },
    {
      "cell_type": "code",
      "source": [
        "print(w1)"
      ],
      "metadata": {
        "colab": {
          "base_uri": "https://localhost:8080/"
        },
        "id": "Xd4RORc16_hC",
        "outputId": "feb80bda-774d-488d-9d3b-20e13a10c14d"
      },
      "execution_count": 61,
      "outputs": [
        {
          "output_type": "stream",
          "name": "stdout",
          "text": [
            "Parameter containing:\n",
            "tensor([[ 0.0444, -0.0687, -0.1404,  ..., -0.0152, -0.0259, -0.1356],\n",
            "        [-0.1039, -0.1027, -0.0030,  ..., -0.1199, -0.1602,  0.0909],\n",
            "        [ 0.0847,  0.0435,  0.0469,  ..., -0.1098, -0.0942,  0.1275],\n",
            "        ...,\n",
            "        [ 0.0564, -0.0204,  0.1301,  ..., -0.1669,  0.0851, -0.1003],\n",
            "        [ 0.1019,  0.1160,  0.0057,  ..., -0.0989, -0.1431, -0.0894],\n",
            "        [-0.0759, -0.0812,  0.0342,  ...,  0.1333,  0.1560, -0.0026]],\n",
            "       requires_grad=True)\n"
          ]
        }
      ]
    },
    {
      "cell_type": "code",
      "source": [
        "net1[0].weight.data = torch.from_numpy(np.random.uniform(3, 5, size=(40, 30)))"
      ],
      "metadata": {
        "id": "F8jmuHxf6_t5"
      },
      "execution_count": 62,
      "outputs": []
    },
    {
      "cell_type": "code",
      "source": [
        "print(net1[0].weight)"
      ],
      "metadata": {
        "colab": {
          "base_uri": "https://localhost:8080/"
        },
        "id": "8yebjWlKA2hu",
        "outputId": "6ded9c27-dce6-4848-cd86-9d2a2518668a"
      },
      "execution_count": 63,
      "outputs": [
        {
          "output_type": "stream",
          "name": "stdout",
          "text": [
            "Parameter containing:\n",
            "tensor([[4.5034, 4.5253, 3.9390,  ..., 4.9036, 3.1018, 3.4701],\n",
            "        [3.1267, 3.8433, 4.7277,  ..., 4.2010, 4.6292, 3.1082],\n",
            "        [3.2610, 4.6849, 4.2367,  ..., 4.6897, 4.2044, 4.9271],\n",
            "        ...,\n",
            "        [4.2669, 3.5554, 4.6544,  ..., 3.8470, 3.9960, 4.3200],\n",
            "        [3.9925, 4.2409, 4.1649,  ..., 3.2195, 4.2492, 3.7747],\n",
            "        [4.3402, 3.4071, 4.0558,  ..., 4.1550, 4.4655, 3.8807]],\n",
            "       dtype=torch.float64, requires_grad=True)\n"
          ]
        }
      ]
    },
    {
      "cell_type": "code",
      "source": [
        "for layer in net1:\n",
        "  if isinstance(layer, nn.Linear):\n",
        "        param_shape = layer.weight.shape\n",
        "        layer.weight.data = torch.from_numpy(np.random.normal(0, 0.5, size=param_shape))"
      ],
      "metadata": {
        "id": "YX1O4lTFA-IZ"
      },
      "execution_count": 64,
      "outputs": []
    },
    {
      "cell_type": "code",
      "source": [
        " \n",
        "class sim_net(nn.Module):\n",
        "    def __init__(self):\n",
        "        super(sim_net, self).__init__()\n",
        "        self.l1 = nn.Sequential(\n",
        "            nn.Linear(30, 40),\n",
        "            nn.ReLU() \n",
        "            )\n",
        "        self.l1[0].weight.data = torch.randn(40, 30) # 􏲭􏲮􏱪􏵰􏰃􏵐􏱭􏳺􏳻\n",
        "        self.l2 = nn.Sequential(\n",
        "            nn.Linear(40, 50),\n",
        "            nn.ReLU()\n",
        "            )\n",
        "        self.l3 = nn.Sequential(\n",
        "            nn.Linear(50, 10),\n",
        "            nn.ReLU()\n",
        "            )\n",
        "    def forward(self, x):\n",
        "        x = self.l1(x)\n",
        "        x =self.l2(x)\n",
        "        x = self.l3(x)\n",
        "        return x"
      ],
      "metadata": {
        "id": "vtlwbyUOA-Ok"
      },
      "execution_count": 65,
      "outputs": []
    },
    {
      "cell_type": "code",
      "source": [
        "net2 = sim_net()"
      ],
      "metadata": {
        "id": "NmBeP4LIA-Yf"
      },
      "execution_count": 66,
      "outputs": []
    },
    {
      "cell_type": "code",
      "source": [
        "for i in net2.children():\n",
        "  print(i)"
      ],
      "metadata": {
        "colab": {
          "base_uri": "https://localhost:8080/"
        },
        "id": "YA9LkEcNA-wr",
        "outputId": "125dff45-6469-4539-9792-594c5203c61e"
      },
      "execution_count": 68,
      "outputs": [
        {
          "output_type": "stream",
          "name": "stdout",
          "text": [
            "Sequential(\n",
            "  (0): Linear(in_features=30, out_features=40, bias=True)\n",
            "  (1): ReLU()\n",
            ")\n",
            "Sequential(\n",
            "  (0): Linear(in_features=40, out_features=50, bias=True)\n",
            "  (1): ReLU()\n",
            ")\n",
            "Sequential(\n",
            "  (0): Linear(in_features=50, out_features=10, bias=True)\n",
            "  (1): ReLU()\n",
            ")\n"
          ]
        }
      ]
    },
    {
      "cell_type": "code",
      "source": [
        "for i in net2.modules():\n",
        "    print(i)"
      ],
      "metadata": {
        "colab": {
          "base_uri": "https://localhost:8080/"
        },
        "id": "a-tYux7FA_KG",
        "outputId": "cfb9d246-ba15-49dc-e867-b6465ea8560c"
      },
      "execution_count": 69,
      "outputs": [
        {
          "output_type": "stream",
          "name": "stdout",
          "text": [
            "sim_net(\n",
            "  (l1): Sequential(\n",
            "    (0): Linear(in_features=30, out_features=40, bias=True)\n",
            "    (1): ReLU()\n",
            "  )\n",
            "  (l2): Sequential(\n",
            "    (0): Linear(in_features=40, out_features=50, bias=True)\n",
            "    (1): ReLU()\n",
            "  )\n",
            "  (l3): Sequential(\n",
            "    (0): Linear(in_features=50, out_features=10, bias=True)\n",
            "    (1): ReLU()\n",
            "  )\n",
            ")\n",
            "Sequential(\n",
            "  (0): Linear(in_features=30, out_features=40, bias=True)\n",
            "  (1): ReLU()\n",
            ")\n",
            "Linear(in_features=30, out_features=40, bias=True)\n",
            "ReLU()\n",
            "Sequential(\n",
            "  (0): Linear(in_features=40, out_features=50, bias=True)\n",
            "  (1): ReLU()\n",
            ")\n",
            "Linear(in_features=40, out_features=50, bias=True)\n",
            "ReLU()\n",
            "Sequential(\n",
            "  (0): Linear(in_features=50, out_features=10, bias=True)\n",
            "  (1): ReLU()\n",
            ")\n",
            "Linear(in_features=50, out_features=10, bias=True)\n",
            "ReLU()\n"
          ]
        }
      ]
    },
    {
      "cell_type": "code",
      "source": [
        " for layer in net2.modules():\n",
        "    if isinstance(layer, nn.Linear):\n",
        "        param_shape = layer.weight.shape\n",
        "        layer.weight.data = torch.from_numpy(np.random.normal(0, 0.5,size=param_shape))"
      ],
      "metadata": {
        "id": "o9w_SyUUA_R3"
      },
      "execution_count": 70,
      "outputs": []
    },
    {
      "cell_type": "code",
      "source": [
        ""
      ],
      "metadata": {
        "id": "GEk6Tz7HB_XL"
      },
      "execution_count": null,
      "outputs": []
    },
    {
      "cell_type": "code",
      "source": [
        ""
      ],
      "metadata": {
        "id": "RP6IEh6AB_i4"
      },
      "execution_count": null,
      "outputs": []
    },
    {
      "cell_type": "code",
      "source": [
        ""
      ],
      "metadata": {
        "id": "VAOqOeuQB_vO"
      },
      "execution_count": null,
      "outputs": []
    },
    {
      "cell_type": "code",
      "source": [
        ""
      ],
      "metadata": {
        "id": "_ZxShwcsCACO"
      },
      "execution_count": null,
      "outputs": []
    },
    {
      "cell_type": "code",
      "source": [
        ""
      ],
      "metadata": {
        "id": "6SSAHExpCALU"
      },
      "execution_count": null,
      "outputs": []
    },
    {
      "cell_type": "code",
      "source": [
        ""
      ],
      "metadata": {
        "id": "x3kbynyqCAVC"
      },
      "execution_count": null,
      "outputs": []
    }
  ]
}