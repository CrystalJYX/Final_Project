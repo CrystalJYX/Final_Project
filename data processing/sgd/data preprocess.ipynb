{
 "cells": [
  {
   "cell_type": "code",
   "execution_count": 1,
   "id": "3310c643",
   "metadata": {},
   "outputs": [],
   "source": [
    "import random\n",
    "import copy\n",
    "import math\n",
    "import numpy as np\n",
    "from scipy import stats\n",
    "import prettytable as pt\n",
    "from collections import Counter\n",
    "from sklearn.model_selection import train_test_split"
   ]
  },
  {
   "cell_type": "markdown",
   "id": "44c13541",
   "metadata": {},
   "source": [
    "# Train Test Valid Split"
   ]
  },
  {
   "cell_type": "code",
   "execution_count": 2,
   "id": "cb319cc1",
   "metadata": {},
   "outputs": [],
   "source": [
    "def open_data(dirname):\n",
    "    raw = [line[:-1] for line in open(dirname, encoding='utf-8')]\n",
    "    data = [] \n",
    "    for line in raw:\n",
    "        if line == '':\n",
    "            data.append([])\n",
    "        else:\n",
    "            data[-1].append(line)\n",
    "    return data"
   ]
  },
  {
   "cell_type": "code",
   "execution_count": 3,
   "id": "98204e74",
   "metadata": {},
   "outputs": [],
   "source": [
    "def train_test_valid_split(data):\n",
    "    ind = list(range(len(data)))\n",
    "    x_train,x_new = train_test_split(ind, train_size=0.8, shuffle = True)\n",
    "    x_test,x_valid = train_test_split(x_new, train_size=0.5, shuffle = True)\n",
    "    return x_train, x_test, x_valid # 8:1:1"
   ]
  },
  {
   "cell_type": "code",
   "execution_count": 4,
   "id": "dfc814de",
   "metadata": {},
   "outputs": [],
   "source": [
    "def get_main_score(scores):\n",
    "    mode = stats.mode(scores)[0][0]\n",
    "    return mode"
   ]
  },
  {
   "cell_type": "code",
   "execution_count": 5,
   "id": "3ea0e2c1",
   "metadata": {},
   "outputs": [],
   "source": [
    "def get_mean_score(scores):\n",
    "    mean = np.mean(scores)\n",
    "    if mean > 3:\n",
    "        mean = 3\n",
    "    elif mean < 3:\n",
    "        mean = 1\n",
    "    else:\n",
    "        mean = 2\n",
    "    return mean"
   ]
  },
  {
   "cell_type": "code",
   "execution_count": 6,
   "id": "02f143b0",
   "metadata": {},
   "outputs": [],
   "source": [
    "def construct_data(idx,data):\n",
    "    dataset = []\n",
    "    for i in idx:\n",
    "        dialogue = data[i]\n",
    "        dataset.append(dialogue)  \n",
    "    return dataset  "
   ]
  },
  {
   "cell_type": "code",
   "execution_count": 7,
   "id": "c57c0999",
   "metadata": {},
   "outputs": [],
   "source": [
    "def write_txt(filename,data):\n",
    "    file = open(filename,'w')\n",
    "    file.writelines(['\\n'])\n",
    "    for i in range(len(data)):\n",
    "        I = data[i]\n",
    "        for j in range(len(I)):\n",
    "            J = I[j]\n",
    "            file.writelines([J,'\\n'])\n",
    "        file.writelines(['\\n'])\n",
    "    file.close()    "
   ]
  },
  {
   "cell_type": "code",
   "execution_count": 8,
   "id": "0f04142c",
   "metadata": {},
   "outputs": [],
   "source": [
    "#dirname = 'MWOZ.txt'\n",
    "dirname = 'SGD.txt'\n",
    "data = open_data(dirname)"
   ]
  },
  {
   "cell_type": "code",
   "execution_count": 9,
   "id": "cc4c8657",
   "metadata": {},
   "outputs": [],
   "source": [
    "x_train, x_test, x_valid = train_test_valid_split(data)"
   ]
  },
  {
   "cell_type": "code",
   "execution_count": 10,
   "id": "3f8ea27b",
   "metadata": {},
   "outputs": [],
   "source": [
    "data_train = construct_data(x_train,data)\n",
    "data_test = construct_data(x_test,data)\n",
    "data_valid = construct_data(x_valid,data)"
   ]
  },
  {
   "cell_type": "code",
   "execution_count": 11,
   "id": "06aacbbd",
   "metadata": {},
   "outputs": [],
   "source": [
    "write_txt('train.txt',data_train)\n",
    "write_txt('test.txt',data_test)\n",
    "write_txt('valid.txt',data_valid)"
   ]
  },
  {
   "cell_type": "markdown",
   "id": "9cc4c735",
   "metadata": {},
   "source": [
    "# Convert Data Format"
   ]
  },
  {
   "cell_type": "code",
   "execution_count": 12,
   "id": "e611af6b",
   "metadata": {},
   "outputs": [],
   "source": [
    "f = open(\"act_sgd.txt\",encoding = \"utf-8\").read()\n",
    "#f = open(\"act_mwoz.txt\",encoding = \"utf-8\").read()\n",
    "act_l = f.splitlines()\n",
    "act_list = {}\n",
    "for i in range(len(act_l)):\n",
    "    num,act= str(act_l[i]).split('\\t')\n",
    "    act_list[act] = num "
   ]
  },
  {
   "cell_type": "code",
   "execution_count": 28,
   "id": "5868f2a7",
   "metadata": {},
   "outputs": [],
   "source": [
    "def split_session(session,act_list):\n",
    "    \n",
    "    emo_seq = []\n",
    "    #emo_diff_seq = []\n",
    "    emo_diff_seq = []\n",
    "    act_seq = []\n",
    "    user_text = []\n",
    "    sys_text = []\n",
    "\n",
    "    for i in range(len(session)):\n",
    "        role = session[i].split('\\t')[0]\n",
    "        if role.upper() == 'USER':\n",
    "            _, u_t, act, s = session[i].split('\\t')\n",
    "            user_text.append(u_t+'|||')\n",
    "        \n",
    "            s = s.split(',')\n",
    "            score = get_main_score([i for i in s])\n",
    "            emo_seq.append(int(score))\n",
    "        \n",
    "            act = act.split(',')\n",
    "            act = int(act_list[act[0]])\n",
    "            act_seq.append(act)   \n",
    "        \n",
    "        else:\n",
    "            s_t = session[i].split('\\t')[1]\n",
    "            sys_text.append(s_t)\n",
    "\n",
    "            \n",
    "    for j in range(1, len(emo_seq)):\n",
    "         emo_diff_seq.append(emo_seq[j] - emo_seq[j-1])\n",
    "            \n",
    "    return emo_seq,emo_diff_seq,act_seq,user_text,sys_text     "
   ]
  },
  {
   "cell_type": "code",
   "execution_count": 14,
   "id": "1062c230",
   "metadata": {},
   "outputs": [],
   "source": [
    "def split_session_mean(session,act_list):\n",
    "    \n",
    "    emo_seq = []\n",
    "    emo_diff_seq = []\n",
    "    act_seq = []\n",
    "    user_text = []\n",
    "    sys_text = []\n",
    "\n",
    "    for i in range(len(session)):\n",
    "        role = session[i].split('\\t')[0]\n",
    "        if role.upper() == 'USER':\n",
    "            _, u_t, act, s = session[i].split('\\t')\n",
    "            user_text.append(u_t+'|||')\n",
    "        \n",
    "            s = s.split(',')\n",
    "            score = get_mean_score([int(i) for i in s])\n",
    "            emo_seq.append(int(score))\n",
    "        \n",
    "            act = act.split(',')\n",
    "            act = int(act_list[act[0]])\n",
    "            act_seq.append(act)   \n",
    "        \n",
    "        else:\n",
    "            s_t = session[i].split('\\t')[1]\n",
    "            sys_text.append(s_t)\n",
    "\n",
    "            \n",
    "    for j in range(1, len(emo_seq)):\n",
    "         emo_diff_seq.append(emo_seq[j] - emo_seq[j-1])\n",
    "            \n",
    "    return emo_seq,emo_diff_seq,act_seq,user_text,sys_text     "
   ]
  },
  {
   "cell_type": "code",
   "execution_count": 29,
   "id": "4da21b04",
   "metadata": {},
   "outputs": [],
   "source": [
    "def write_data(dirname,filename):\n",
    "    data = open_data(dirname)\n",
    "    with open(filename,\"w\") as f:\n",
    "        for i in range(len(data)):\n",
    "            session = data[i]\n",
    "            text = []\n",
    "            if len(session)/2 > 2:\n",
    "                emo_seq,emo_diff_seq,act_seq,user_text,sys_text = split_session(session,act_list) # five class\n",
    "                #emo_seq,emo_diff_seq,act_seq,user_text,sys_text = split_session_mean(session,act_list) # three class\n",
    "                for j in range(len(sys_text)-1):\n",
    "                    text_1 = user_text[j]+sys_text[j]\n",
    "                    text.append(text_1)\n",
    "                    text_2 = []\n",
    "                    text_u = user_text[j+1]\n",
    "                    text_2.append(text_u)\n",
    "                    current_text =  text + text_2\n",
    "                    act = act_seq[:j+2]\n",
    "                    sat = emo_seq[j+1]-1\n",
    "                    sat_diff = emo_diff_seq[j+1]\n",
    "                    sat_seq = [i-1 for i in emo_seq[:j+2]]\n",
    "                    if j > 1:\n",
    "                        f.writelines([str(current_text),'\\t',str(act),'\\t',str(sat_seq),'\\t',str(sat_diff),'\\t',str(sat),'\\n'])"
   ]
  },
  {
   "cell_type": "code",
   "execution_count": 30,
   "id": "975f5f7e",
   "metadata": {},
   "outputs": [],
   "source": [
    "write_data('train.txt','train_sgd.txt')\n",
    "write_data('test.txt','test_sgd.txt')\n",
    "write_data('valid.txt','valid_sgd.txt')"
   ]
  },
  {
   "cell_type": "markdown",
   "id": "e3c12c50",
   "metadata": {},
   "source": [
    "# Count Classes and Weight"
   ]
  },
  {
   "cell_type": "code",
   "execution_count": 8,
   "id": "638bf3c1",
   "metadata": {},
   "outputs": [],
   "source": [
    "def count_sat(dirname):\n",
    "    with open(dirname, 'r', encoding='utf-8') as infile:\n",
    "        score = []\n",
    "        for line in infile:\n",
    "                items = line.strip('\\n').split('\\t')\n",
    "                sat = int(items[-1]) \n",
    "                score.append(sat)\n",
    "    return score"
   ]
  },
  {
   "cell_type": "code",
   "execution_count": 12,
   "id": "2edcd0ec",
   "metadata": {},
   "outputs": [
    {
     "name": "stdout",
     "output_type": "stream",
     "text": [
      "Counter({2: 6308, 3: 965, 1: 521, 4: 39, 0: 3})\n"
     ]
    },
    {
     "data": {
      "text/plain": [
       "[2102.6666666666665,\n",
       " 12.107485604606525,\n",
       " 1.0,\n",
       " 6.536787564766839,\n",
       " 161.74358974358975]"
      ]
     },
     "execution_count": 12,
     "metadata": {},
     "output_type": "execute_result"
    }
   ],
   "source": [
    "dirname = 'train_sgd.txt'\n",
    "emo_train = count_sat(dirname)\n",
    "count_train = Counter(emo_train)\n",
    "print(count_train)\n",
    "\n",
    "# inverse weights five class\n",
    "weights = [count_train[0],count_train[1],count_train[2],count_train[3],count_train[4]]\n",
    "weights = [max(weights)/x for x in weights]\n",
    "weights"
   ]
  },
  {
   "cell_type": "code",
   "execution_count": 9,
   "id": "b7e28ccf",
   "metadata": {},
   "outputs": [
    {
     "name": "stdout",
     "output_type": "stream",
     "text": [
      "Counter({2: 3679, 1: 2375, 0: 1782})\n"
     ]
    },
    {
     "data": {
      "text/plain": [
       "[2.064534231200898, 1.5490526315789475, 1.0]"
      ]
     },
     "execution_count": 9,
     "metadata": {},
     "output_type": "execute_result"
    }
   ],
   "source": [
    "dirname = 'train_sgd.txt'\n",
    "emo_train = count_sat(dirname)\n",
    "count_train = Counter(emo_train)\n",
    "print(count_train)\n",
    "\n",
    "# inverse weights three class\n",
    "weights = [count_train[0],count_train[1],count_train[2]]\n",
    "weights = [max(weights)/x for x in weights]\n",
    "weights"
   ]
  },
  {
   "cell_type": "code",
   "execution_count": 13,
   "id": "f1b032ef",
   "metadata": {},
   "outputs": [
    {
     "name": "stdout",
     "output_type": "stream",
     "text": [
      "Counter({2: 773, 3: 143, 1: 81, 4: 4})\n"
     ]
    }
   ],
   "source": [
    "dirname = 'test_sgd.txt'\n",
    "emo_test = count_sat(dirname)\n",
    "count_test = Counter(emo_test)\n",
    "print(count_test)"
   ]
  },
  {
   "cell_type": "code",
   "execution_count": 14,
   "id": "113dc3d2",
   "metadata": {},
   "outputs": [
    {
     "name": "stdout",
     "output_type": "stream",
     "text": [
      "Counter({2: 812, 3: 122, 1: 55, 4: 7})\n"
     ]
    }
   ],
   "source": [
    "dirname = 'valid_sgd.txt'\n",
    "emo_valid = count_sat(dirname)\n",
    "count_valid= Counter(emo_valid)\n",
    "print(count_valid)"
   ]
  },
  {
   "cell_type": "code",
   "execution_count": null,
   "id": "95c714b0",
   "metadata": {},
   "outputs": [],
   "source": [
    "# Inverse of Square Root weights\n",
    "weights = [count_train[0],count_train[1],count_train[2],count_train[3],count_train[4]]\n",
    "weights = [100/np.sqrt(x) for x in weights]\n",
    "weights"
   ]
  },
  {
   "cell_type": "code",
   "execution_count": null,
   "id": "b9debe2a",
   "metadata": {},
   "outputs": [],
   "source": [
    "# Effective Number of Samples\n",
    "b = 0.999 # 0.9, 0.99, 0.999, 0.9999\n",
    "weights = [count_train[0],count_train[1],count_train[2],count_train[3],count_train[4]]\n",
    "eff_num = [1.0 - np.power(b,x) for x in weights]\n",
    "weights = (1-b)/np.array(eff_num)\n",
    "weights = weights/np.sum(weights)*5\n",
    "weights"
   ]
  },
  {
   "cell_type": "code",
   "execution_count": 36,
   "id": "fff71de5",
   "metadata": {},
   "outputs": [],
   "source": [
    "def count_sat_diff(dirname):\n",
    "    with open(dirname, 'r', encoding='utf-8') as infile:\n",
    "        score = []\n",
    "        for line in infile:\n",
    "                items = line.strip('\\n').split('\\t')\n",
    "                sat = int(items[-2]) \n",
    "                score.append(sat)\n",
    "    return score"
   ]
  },
  {
   "cell_type": "code",
   "execution_count": 39,
   "id": "e56d8eff",
   "metadata": {},
   "outputs": [
    {
     "name": "stdout",
     "output_type": "stream",
     "text": [
      "Counter({0: 5475, 1: 1187, -1: 1045, -2: 69, 2: 57, -3: 2, 3: 1})\n"
     ]
    },
    {
     "data": {
      "text/plain": [
       "[2737.5,\n",
       " 79.34782608695652,\n",
       " 5.239234449760765,\n",
       " 1.0,\n",
       " 4.612468407750632,\n",
       " 96.05263157894737,\n",
       " 5475.0]"
      ]
     },
     "execution_count": 39,
     "metadata": {},
     "output_type": "execute_result"
    }
   ],
   "source": [
    "dirname = 'train_sgd.txt'\n",
    "emo_train = count_sat_diff(dirname)\n",
    "count_train = Counter(emo_train)\n",
    "print(count_train)\n",
    "\n",
    "# inverse weights five class\n",
    "weights = [count_train[-3],count_train[-2],count_train[-1],count_train[0],count_train[1],count_train[2],count_train[3]]\n",
    "weights = [max(weights)/x for x in weights]\n",
    "weights"
   ]
  },
  {
   "cell_type": "code",
   "execution_count": 42,
   "id": "400b1425",
   "metadata": {},
   "outputs": [
    {
     "name": "stdout",
     "output_type": "stream",
     "text": [
      "Counter({0: 3853, 1: 1439, -1: 1175, -2: 697, 2: 672})\n"
     ]
    },
    {
     "data": {
      "text/plain": [
       "[5.527977044476327,\n",
       " 3.2791489361702126,\n",
       " 1.0,\n",
       " 2.6775538568450314,\n",
       " 5.7336309523809526]"
      ]
     },
     "execution_count": 42,
     "metadata": {},
     "output_type": "execute_result"
    }
   ],
   "source": [
    "dirname = 'train_sgd.txt'\n",
    "emo_train = count_sat_diff(dirname)\n",
    "count_train = Counter(emo_train)\n",
    "print(count_train)\n",
    "\n",
    "# inverse weights three class\n",
    "weights = [count_train[-2],count_train[-1],count_train[0],count_train[1],count_train[2]]\n",
    "weights = [max(weights)/x for x in weights]\n",
    "weights"
   ]
  },
  {
   "cell_type": "code",
   "execution_count": null,
   "id": "a921836e",
   "metadata": {},
   "outputs": [],
   "source": []
  }
 ],
 "metadata": {
  "kernelspec": {
   "display_name": "Python 3 (ipykernel)",
   "language": "python",
   "name": "python3"
  },
  "language_info": {
   "codemirror_mode": {
    "name": "ipython",
    "version": 3
   },
   "file_extension": ".py",
   "mimetype": "text/x-python",
   "name": "python",
   "nbconvert_exporter": "python",
   "pygments_lexer": "ipython3",
   "version": "3.9.7"
  },
  "vscode": {
   "interpreter": {
    "hash": "3febd6ebcc8e8159f96398fb3ada6df51deee7eefdc99056c2fbcfd54c0277bb"
   }
  }
 },
 "nbformat": 4,
 "nbformat_minor": 5
}
